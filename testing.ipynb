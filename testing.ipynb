{
 "cells": [
  {
   "cell_type": "code",
   "execution_count": 82,
   "metadata": {},
   "outputs": [],
   "source": [
    "import requests\n",
    "from bs4 import BeautifulSoup\n",
    "import pandas as pd\n",
    "from tqdm import tqdm_notebook"
   ]
  },
  {
   "cell_type": "code",
   "execution_count": 83,
   "metadata": {},
   "outputs": [],
   "source": [
    "#print error messages of every dead link under a given page\n",
    "def printError(url):\n",
    "    errorFound = False\n",
    "    try:\n",
    "        req = requests.get(url, timeout = 10)\n",
    "        req.raise_for_status()\n",
    "    except Exception:\n",
    "        return\n",
    "    soup = BeautifulSoup(req.content, 'html.parser')\n",
    "    content = soup.find_all(\"div\", {\"class\": \"region-content\"})[0]\n",
    "    for link in content.find_all('a'):\n",
    "        linkUrl = link.get('href')\n",
    "        text = link.get_text()\n",
    "        if linkUrl == None:\n",
    "            continue\n",
    "        if \"http\" not in linkUrl:\n",
    "            if \"mailto:\" or \"tel:\" in linkUrl:\n",
    "                continue\n",
    "            linkUrl = website + linkUrl\n",
    "        try:\n",
    "            r = requests.get(linkUrl, timeout = 10, allow_redirects=True, headers={'User-Agent': ''})\n",
    "            r.raise_for_status()\n",
    "        except Exception as e:\n",
    "            if not errorFound:\n",
    "                print(url)\n",
    "                errorFound = True\n",
    "            print('\\t'+text)\n",
    "            print('\\t'+linkUrl)\n",
    "            print('\\t'+str(e))\n",
    "            print()\n",
    "            # print('\\t'+str(e))\n",
    "    if errorFound:\n",
    "        print()"
   ]
  },
  {
   "cell_type": "code",
   "execution_count": 84,
   "metadata": {},
   "outputs": [
    {
     "name": "stderr",
     "output_type": "stream",
     "text": [
      "/Users/alanhou/miniforge3/envs/deadLinkFinder/lib/python3.9/site-packages/bs4/builder/__init__.py:545: XMLParsedAsHTMLWarning: It looks like you're parsing an XML document using an HTML parser. If this really is an HTML document (maybe it's XHTML?), you can ignore or filter this warning. If it's XML, you should know that using an XML parser will be more reliable. To parse this document as XML, make sure you have the lxml package installed, and pass the keyword argument `features=\"xml\"` into the BeautifulSoup constructor.\n",
      "  warnings.warn(\n"
     ]
    }
   ],
   "source": [
    "website = \"https://studentlife.umich.edu/parents\"\n",
    "req = requests.get(website+\"/sitemap.xml\", timeout = 10)\n",
    "soup = BeautifulSoup(req.content, 'html.parser')"
   ]
  },
  {
   "cell_type": "code",
   "execution_count": 85,
   "metadata": {},
   "outputs": [],
   "source": [
    "urls = []\n",
    "for link in soup.find_all('loc'):\n",
    "    urls.append(link.string)"
   ]
  },
  {
   "cell_type": "code",
   "execution_count": 86,
   "metadata": {},
   "outputs": [],
   "source": [
    "testUrl = \"http://www.mgoblue.com/genrel/060109aaf.html\"\n",
    "response = requests.get(testUrl,headers={'User-Agent': ''})\n",
    "response.raise_for_status()"
   ]
  },
  {
   "cell_type": "code",
   "execution_count": 87,
   "metadata": {},
   "outputs": [
    {
     "name": "stderr",
     "output_type": "stream",
     "text": [
      "<ipython-input-87-418efed745b9>:1: TqdmDeprecationWarning: This function will be removed in tqdm==5.0.0\n",
      "Please use `tqdm.notebook.tqdm` instead of `tqdm.tqdm_notebook`\n",
      "  for i in tqdm_notebook(range(len(urls))):\n"
     ]
    },
    {
     "data": {
      "application/vnd.jupyter.widget-view+json": {
       "model_id": "35906b285b834186839c9a5bfbb0c094",
       "version_major": 2,
       "version_minor": 0
      },
      "text/plain": [
       "  0%|          | 0/428 [00:00<?, ?it/s]"
      ]
     },
     "metadata": {},
     "output_type": "display_data"
    },
    {
     "name": "stdout",
     "output_type": "stream",
     "text": [
      "https://studentlife.umich.edu/parents/\n",
      "\tUniversity Record\n",
      "\thttp://www.ur.umich.edu/\n",
      "\tHTTPConnectionPool(host='record.umich.edu', port=80): Max retries exceeded with url: / (Caused by NewConnectionError('<urllib3.connection.HTTPConnection object at 0x1218fc9d0>: Failed to establish a new connection: [Errno 61] Connection refused'))\n",
      "\n",
      "\tWednesday 2/16 4:30-5:30pm\n",
      "\thttps://umich.zoom.us/webinar/register/WN_gDFMeLfvTAmVxHDibFJ41w\n",
      "\t404 Client Error:  for url: https://umich.zoom.us/webinar/register/WN_gDFMeLfvTAmVxHDibFJ41w\n",
      "\n"
     ]
    },
    {
     "ename": "KeyboardInterrupt",
     "evalue": "",
     "output_type": "error",
     "traceback": [
      "\u001b[0;31m---------------------------------------------------------------------------\u001b[0m",
      "\u001b[0;31mKeyboardInterrupt\u001b[0m                         Traceback (most recent call last)",
      "\u001b[1;32m/Users/alanhou/Documents/deadLinkFinder/testing.ipynb Cell 6'\u001b[0m in \u001b[0;36m<cell line: 1>\u001b[0;34m()\u001b[0m\n\u001b[1;32m      <a href='vscode-notebook-cell:/Users/alanhou/Documents/deadLinkFinder/testing.ipynb#ch0000004?line=0'>1</a>\u001b[0m \u001b[39mfor\u001b[39;00m i \u001b[39min\u001b[39;00m tqdm_notebook(\u001b[39mrange\u001b[39m(\u001b[39mlen\u001b[39m(urls))):\n\u001b[0;32m----> <a href='vscode-notebook-cell:/Users/alanhou/Documents/deadLinkFinder/testing.ipynb#ch0000004?line=1'>2</a>\u001b[0m     printError(urls[i])\n",
      "\u001b[1;32m/Users/alanhou/Documents/deadLinkFinder/testing.ipynb Cell 2'\u001b[0m in \u001b[0;36mprintError\u001b[0;34m(url)\u001b[0m\n\u001b[1;32m     <a href='vscode-notebook-cell:/Users/alanhou/Documents/deadLinkFinder/testing.ipynb#ch0000001?line=18'>19</a>\u001b[0m     linkUrl \u001b[39m=\u001b[39m website \u001b[39m+\u001b[39m linkUrl\n\u001b[1;32m     <a href='vscode-notebook-cell:/Users/alanhou/Documents/deadLinkFinder/testing.ipynb#ch0000001?line=19'>20</a>\u001b[0m \u001b[39mtry\u001b[39;00m:\n\u001b[0;32m---> <a href='vscode-notebook-cell:/Users/alanhou/Documents/deadLinkFinder/testing.ipynb#ch0000001?line=20'>21</a>\u001b[0m     r \u001b[39m=\u001b[39m requests\u001b[39m.\u001b[39;49mget(linkUrl, timeout \u001b[39m=\u001b[39;49m \u001b[39m10\u001b[39;49m, allow_redirects\u001b[39m=\u001b[39;49m\u001b[39mTrue\u001b[39;49;00m, headers\u001b[39m=\u001b[39;49m{\u001b[39m'\u001b[39;49m\u001b[39mUser-Agent\u001b[39;49m\u001b[39m'\u001b[39;49m: \u001b[39m'\u001b[39;49m\u001b[39m'\u001b[39;49m})\n\u001b[1;32m     <a href='vscode-notebook-cell:/Users/alanhou/Documents/deadLinkFinder/testing.ipynb#ch0000001?line=21'>22</a>\u001b[0m     r\u001b[39m.\u001b[39mraise_for_status()\n\u001b[1;32m     <a href='vscode-notebook-cell:/Users/alanhou/Documents/deadLinkFinder/testing.ipynb#ch0000001?line=22'>23</a>\u001b[0m \u001b[39mexcept\u001b[39;00m \u001b[39mException\u001b[39;00m \u001b[39mas\u001b[39;00m e:\n",
      "File \u001b[0;32m~/miniforge3/envs/deadLinkFinder/lib/python3.9/site-packages/requests/api.py:75\u001b[0m, in \u001b[0;36mget\u001b[0;34m(url, params, **kwargs)\u001b[0m\n\u001b[1;32m     <a href='file:///Users/alanhou/miniforge3/envs/deadLinkFinder/lib/python3.9/site-packages/requests/api.py?line=63'>64</a>\u001b[0m \u001b[39mdef\u001b[39;00m \u001b[39mget\u001b[39m(url, params\u001b[39m=\u001b[39m\u001b[39mNone\u001b[39;00m, \u001b[39m*\u001b[39m\u001b[39m*\u001b[39mkwargs):\n\u001b[1;32m     <a href='file:///Users/alanhou/miniforge3/envs/deadLinkFinder/lib/python3.9/site-packages/requests/api.py?line=64'>65</a>\u001b[0m     \u001b[39mr\u001b[39m\u001b[39m\"\"\"Sends a GET request.\u001b[39;00m\n\u001b[1;32m     <a href='file:///Users/alanhou/miniforge3/envs/deadLinkFinder/lib/python3.9/site-packages/requests/api.py?line=65'>66</a>\u001b[0m \n\u001b[1;32m     <a href='file:///Users/alanhou/miniforge3/envs/deadLinkFinder/lib/python3.9/site-packages/requests/api.py?line=66'>67</a>\u001b[0m \u001b[39m    :param url: URL for the new :class:`Request` object.\u001b[39;00m\n\u001b[0;32m   (...)\u001b[0m\n\u001b[1;32m     <a href='file:///Users/alanhou/miniforge3/envs/deadLinkFinder/lib/python3.9/site-packages/requests/api.py?line=71'>72</a>\u001b[0m \u001b[39m    :rtype: requests.Response\u001b[39;00m\n\u001b[1;32m     <a href='file:///Users/alanhou/miniforge3/envs/deadLinkFinder/lib/python3.9/site-packages/requests/api.py?line=72'>73</a>\u001b[0m \u001b[39m    \"\"\"\u001b[39;00m\n\u001b[0;32m---> <a href='file:///Users/alanhou/miniforge3/envs/deadLinkFinder/lib/python3.9/site-packages/requests/api.py?line=74'>75</a>\u001b[0m     \u001b[39mreturn\u001b[39;00m request(\u001b[39m'\u001b[39;49m\u001b[39mget\u001b[39;49m\u001b[39m'\u001b[39;49m, url, params\u001b[39m=\u001b[39;49mparams, \u001b[39m*\u001b[39;49m\u001b[39m*\u001b[39;49mkwargs)\n",
      "File \u001b[0;32m~/miniforge3/envs/deadLinkFinder/lib/python3.9/site-packages/requests/api.py:61\u001b[0m, in \u001b[0;36mrequest\u001b[0;34m(method, url, **kwargs)\u001b[0m\n\u001b[1;32m     <a href='file:///Users/alanhou/miniforge3/envs/deadLinkFinder/lib/python3.9/site-packages/requests/api.py?line=56'>57</a>\u001b[0m \u001b[39m# By using the 'with' statement we are sure the session is closed, thus we\u001b[39;00m\n\u001b[1;32m     <a href='file:///Users/alanhou/miniforge3/envs/deadLinkFinder/lib/python3.9/site-packages/requests/api.py?line=57'>58</a>\u001b[0m \u001b[39m# avoid leaving sockets open which can trigger a ResourceWarning in some\u001b[39;00m\n\u001b[1;32m     <a href='file:///Users/alanhou/miniforge3/envs/deadLinkFinder/lib/python3.9/site-packages/requests/api.py?line=58'>59</a>\u001b[0m \u001b[39m# cases, and look like a memory leak in others.\u001b[39;00m\n\u001b[1;32m     <a href='file:///Users/alanhou/miniforge3/envs/deadLinkFinder/lib/python3.9/site-packages/requests/api.py?line=59'>60</a>\u001b[0m \u001b[39mwith\u001b[39;00m sessions\u001b[39m.\u001b[39mSession() \u001b[39mas\u001b[39;00m session:\n\u001b[0;32m---> <a href='file:///Users/alanhou/miniforge3/envs/deadLinkFinder/lib/python3.9/site-packages/requests/api.py?line=60'>61</a>\u001b[0m     \u001b[39mreturn\u001b[39;00m session\u001b[39m.\u001b[39;49mrequest(method\u001b[39m=\u001b[39;49mmethod, url\u001b[39m=\u001b[39;49murl, \u001b[39m*\u001b[39;49m\u001b[39m*\u001b[39;49mkwargs)\n",
      "File \u001b[0;32m~/miniforge3/envs/deadLinkFinder/lib/python3.9/site-packages/requests/sessions.py:529\u001b[0m, in \u001b[0;36mSession.request\u001b[0;34m(self, method, url, params, data, headers, cookies, files, auth, timeout, allow_redirects, proxies, hooks, stream, verify, cert, json)\u001b[0m\n\u001b[1;32m    <a href='file:///Users/alanhou/miniforge3/envs/deadLinkFinder/lib/python3.9/site-packages/requests/sessions.py?line=523'>524</a>\u001b[0m send_kwargs \u001b[39m=\u001b[39m {\n\u001b[1;32m    <a href='file:///Users/alanhou/miniforge3/envs/deadLinkFinder/lib/python3.9/site-packages/requests/sessions.py?line=524'>525</a>\u001b[0m     \u001b[39m'\u001b[39m\u001b[39mtimeout\u001b[39m\u001b[39m'\u001b[39m: timeout,\n\u001b[1;32m    <a href='file:///Users/alanhou/miniforge3/envs/deadLinkFinder/lib/python3.9/site-packages/requests/sessions.py?line=525'>526</a>\u001b[0m     \u001b[39m'\u001b[39m\u001b[39mallow_redirects\u001b[39m\u001b[39m'\u001b[39m: allow_redirects,\n\u001b[1;32m    <a href='file:///Users/alanhou/miniforge3/envs/deadLinkFinder/lib/python3.9/site-packages/requests/sessions.py?line=526'>527</a>\u001b[0m }\n\u001b[1;32m    <a href='file:///Users/alanhou/miniforge3/envs/deadLinkFinder/lib/python3.9/site-packages/requests/sessions.py?line=527'>528</a>\u001b[0m send_kwargs\u001b[39m.\u001b[39mupdate(settings)\n\u001b[0;32m--> <a href='file:///Users/alanhou/miniforge3/envs/deadLinkFinder/lib/python3.9/site-packages/requests/sessions.py?line=528'>529</a>\u001b[0m resp \u001b[39m=\u001b[39m \u001b[39mself\u001b[39;49m\u001b[39m.\u001b[39;49msend(prep, \u001b[39m*\u001b[39;49m\u001b[39m*\u001b[39;49msend_kwargs)\n\u001b[1;32m    <a href='file:///Users/alanhou/miniforge3/envs/deadLinkFinder/lib/python3.9/site-packages/requests/sessions.py?line=530'>531</a>\u001b[0m \u001b[39mreturn\u001b[39;00m resp\n",
      "File \u001b[0;32m~/miniforge3/envs/deadLinkFinder/lib/python3.9/site-packages/requests/sessions.py:645\u001b[0m, in \u001b[0;36mSession.send\u001b[0;34m(self, request, **kwargs)\u001b[0m\n\u001b[1;32m    <a href='file:///Users/alanhou/miniforge3/envs/deadLinkFinder/lib/python3.9/site-packages/requests/sessions.py?line=641'>642</a>\u001b[0m start \u001b[39m=\u001b[39m preferred_clock()\n\u001b[1;32m    <a href='file:///Users/alanhou/miniforge3/envs/deadLinkFinder/lib/python3.9/site-packages/requests/sessions.py?line=643'>644</a>\u001b[0m \u001b[39m# Send the request\u001b[39;00m\n\u001b[0;32m--> <a href='file:///Users/alanhou/miniforge3/envs/deadLinkFinder/lib/python3.9/site-packages/requests/sessions.py?line=644'>645</a>\u001b[0m r \u001b[39m=\u001b[39m adapter\u001b[39m.\u001b[39;49msend(request, \u001b[39m*\u001b[39;49m\u001b[39m*\u001b[39;49mkwargs)\n\u001b[1;32m    <a href='file:///Users/alanhou/miniforge3/envs/deadLinkFinder/lib/python3.9/site-packages/requests/sessions.py?line=646'>647</a>\u001b[0m \u001b[39m# Total elapsed time of the request (approximately)\u001b[39;00m\n\u001b[1;32m    <a href='file:///Users/alanhou/miniforge3/envs/deadLinkFinder/lib/python3.9/site-packages/requests/sessions.py?line=647'>648</a>\u001b[0m elapsed \u001b[39m=\u001b[39m preferred_clock() \u001b[39m-\u001b[39m start\n",
      "File \u001b[0;32m~/miniforge3/envs/deadLinkFinder/lib/python3.9/site-packages/requests/adapters.py:440\u001b[0m, in \u001b[0;36mHTTPAdapter.send\u001b[0;34m(self, request, stream, timeout, verify, cert, proxies)\u001b[0m\n\u001b[1;32m    <a href='file:///Users/alanhou/miniforge3/envs/deadLinkFinder/lib/python3.9/site-packages/requests/adapters.py?line=437'>438</a>\u001b[0m \u001b[39mtry\u001b[39;00m:\n\u001b[1;32m    <a href='file:///Users/alanhou/miniforge3/envs/deadLinkFinder/lib/python3.9/site-packages/requests/adapters.py?line=438'>439</a>\u001b[0m     \u001b[39mif\u001b[39;00m \u001b[39mnot\u001b[39;00m chunked:\n\u001b[0;32m--> <a href='file:///Users/alanhou/miniforge3/envs/deadLinkFinder/lib/python3.9/site-packages/requests/adapters.py?line=439'>440</a>\u001b[0m         resp \u001b[39m=\u001b[39m conn\u001b[39m.\u001b[39;49murlopen(\n\u001b[1;32m    <a href='file:///Users/alanhou/miniforge3/envs/deadLinkFinder/lib/python3.9/site-packages/requests/adapters.py?line=440'>441</a>\u001b[0m             method\u001b[39m=\u001b[39;49mrequest\u001b[39m.\u001b[39;49mmethod,\n\u001b[1;32m    <a href='file:///Users/alanhou/miniforge3/envs/deadLinkFinder/lib/python3.9/site-packages/requests/adapters.py?line=441'>442</a>\u001b[0m             url\u001b[39m=\u001b[39;49murl,\n\u001b[1;32m    <a href='file:///Users/alanhou/miniforge3/envs/deadLinkFinder/lib/python3.9/site-packages/requests/adapters.py?line=442'>443</a>\u001b[0m             body\u001b[39m=\u001b[39;49mrequest\u001b[39m.\u001b[39;49mbody,\n\u001b[1;32m    <a href='file:///Users/alanhou/miniforge3/envs/deadLinkFinder/lib/python3.9/site-packages/requests/adapters.py?line=443'>444</a>\u001b[0m             headers\u001b[39m=\u001b[39;49mrequest\u001b[39m.\u001b[39;49mheaders,\n\u001b[1;32m    <a href='file:///Users/alanhou/miniforge3/envs/deadLinkFinder/lib/python3.9/site-packages/requests/adapters.py?line=444'>445</a>\u001b[0m             redirect\u001b[39m=\u001b[39;49m\u001b[39mFalse\u001b[39;49;00m,\n\u001b[1;32m    <a href='file:///Users/alanhou/miniforge3/envs/deadLinkFinder/lib/python3.9/site-packages/requests/adapters.py?line=445'>446</a>\u001b[0m             assert_same_host\u001b[39m=\u001b[39;49m\u001b[39mFalse\u001b[39;49;00m,\n\u001b[1;32m    <a href='file:///Users/alanhou/miniforge3/envs/deadLinkFinder/lib/python3.9/site-packages/requests/adapters.py?line=446'>447</a>\u001b[0m             preload_content\u001b[39m=\u001b[39;49m\u001b[39mFalse\u001b[39;49;00m,\n\u001b[1;32m    <a href='file:///Users/alanhou/miniforge3/envs/deadLinkFinder/lib/python3.9/site-packages/requests/adapters.py?line=447'>448</a>\u001b[0m             decode_content\u001b[39m=\u001b[39;49m\u001b[39mFalse\u001b[39;49;00m,\n\u001b[1;32m    <a href='file:///Users/alanhou/miniforge3/envs/deadLinkFinder/lib/python3.9/site-packages/requests/adapters.py?line=448'>449</a>\u001b[0m             retries\u001b[39m=\u001b[39;49m\u001b[39mself\u001b[39;49m\u001b[39m.\u001b[39;49mmax_retries,\n\u001b[1;32m    <a href='file:///Users/alanhou/miniforge3/envs/deadLinkFinder/lib/python3.9/site-packages/requests/adapters.py?line=449'>450</a>\u001b[0m             timeout\u001b[39m=\u001b[39;49mtimeout\n\u001b[1;32m    <a href='file:///Users/alanhou/miniforge3/envs/deadLinkFinder/lib/python3.9/site-packages/requests/adapters.py?line=450'>451</a>\u001b[0m         )\n\u001b[1;32m    <a href='file:///Users/alanhou/miniforge3/envs/deadLinkFinder/lib/python3.9/site-packages/requests/adapters.py?line=452'>453</a>\u001b[0m     \u001b[39m# Send the request.\u001b[39;00m\n\u001b[1;32m    <a href='file:///Users/alanhou/miniforge3/envs/deadLinkFinder/lib/python3.9/site-packages/requests/adapters.py?line=453'>454</a>\u001b[0m     \u001b[39melse\u001b[39;00m:\n\u001b[1;32m    <a href='file:///Users/alanhou/miniforge3/envs/deadLinkFinder/lib/python3.9/site-packages/requests/adapters.py?line=454'>455</a>\u001b[0m         \u001b[39mif\u001b[39;00m \u001b[39mhasattr\u001b[39m(conn, \u001b[39m'\u001b[39m\u001b[39mproxy_pool\u001b[39m\u001b[39m'\u001b[39m):\n",
      "File \u001b[0;32m~/miniforge3/envs/deadLinkFinder/lib/python3.9/site-packages/urllib3/connectionpool.py:703\u001b[0m, in \u001b[0;36mHTTPConnectionPool.urlopen\u001b[0;34m(self, method, url, body, headers, retries, redirect, assert_same_host, timeout, pool_timeout, release_conn, chunked, body_pos, **response_kw)\u001b[0m\n\u001b[1;32m    <a href='file:///Users/alanhou/miniforge3/envs/deadLinkFinder/lib/python3.9/site-packages/urllib3/connectionpool.py?line=699'>700</a>\u001b[0m     \u001b[39mself\u001b[39m\u001b[39m.\u001b[39m_prepare_proxy(conn)\n\u001b[1;32m    <a href='file:///Users/alanhou/miniforge3/envs/deadLinkFinder/lib/python3.9/site-packages/urllib3/connectionpool.py?line=701'>702</a>\u001b[0m \u001b[39m# Make the request on the httplib connection object.\u001b[39;00m\n\u001b[0;32m--> <a href='file:///Users/alanhou/miniforge3/envs/deadLinkFinder/lib/python3.9/site-packages/urllib3/connectionpool.py?line=702'>703</a>\u001b[0m httplib_response \u001b[39m=\u001b[39m \u001b[39mself\u001b[39;49m\u001b[39m.\u001b[39;49m_make_request(\n\u001b[1;32m    <a href='file:///Users/alanhou/miniforge3/envs/deadLinkFinder/lib/python3.9/site-packages/urllib3/connectionpool.py?line=703'>704</a>\u001b[0m     conn,\n\u001b[1;32m    <a href='file:///Users/alanhou/miniforge3/envs/deadLinkFinder/lib/python3.9/site-packages/urllib3/connectionpool.py?line=704'>705</a>\u001b[0m     method,\n\u001b[1;32m    <a href='file:///Users/alanhou/miniforge3/envs/deadLinkFinder/lib/python3.9/site-packages/urllib3/connectionpool.py?line=705'>706</a>\u001b[0m     url,\n\u001b[1;32m    <a href='file:///Users/alanhou/miniforge3/envs/deadLinkFinder/lib/python3.9/site-packages/urllib3/connectionpool.py?line=706'>707</a>\u001b[0m     timeout\u001b[39m=\u001b[39;49mtimeout_obj,\n\u001b[1;32m    <a href='file:///Users/alanhou/miniforge3/envs/deadLinkFinder/lib/python3.9/site-packages/urllib3/connectionpool.py?line=707'>708</a>\u001b[0m     body\u001b[39m=\u001b[39;49mbody,\n\u001b[1;32m    <a href='file:///Users/alanhou/miniforge3/envs/deadLinkFinder/lib/python3.9/site-packages/urllib3/connectionpool.py?line=708'>709</a>\u001b[0m     headers\u001b[39m=\u001b[39;49mheaders,\n\u001b[1;32m    <a href='file:///Users/alanhou/miniforge3/envs/deadLinkFinder/lib/python3.9/site-packages/urllib3/connectionpool.py?line=709'>710</a>\u001b[0m     chunked\u001b[39m=\u001b[39;49mchunked,\n\u001b[1;32m    <a href='file:///Users/alanhou/miniforge3/envs/deadLinkFinder/lib/python3.9/site-packages/urllib3/connectionpool.py?line=710'>711</a>\u001b[0m )\n\u001b[1;32m    <a href='file:///Users/alanhou/miniforge3/envs/deadLinkFinder/lib/python3.9/site-packages/urllib3/connectionpool.py?line=712'>713</a>\u001b[0m \u001b[39m# If we're going to release the connection in ``finally:``, then\u001b[39;00m\n\u001b[1;32m    <a href='file:///Users/alanhou/miniforge3/envs/deadLinkFinder/lib/python3.9/site-packages/urllib3/connectionpool.py?line=713'>714</a>\u001b[0m \u001b[39m# the response doesn't need to know about the connection. Otherwise\u001b[39;00m\n\u001b[1;32m    <a href='file:///Users/alanhou/miniforge3/envs/deadLinkFinder/lib/python3.9/site-packages/urllib3/connectionpool.py?line=714'>715</a>\u001b[0m \u001b[39m# it will also try to release it and we'll have a double-release\u001b[39;00m\n\u001b[1;32m    <a href='file:///Users/alanhou/miniforge3/envs/deadLinkFinder/lib/python3.9/site-packages/urllib3/connectionpool.py?line=715'>716</a>\u001b[0m \u001b[39m# mess.\u001b[39;00m\n\u001b[1;32m    <a href='file:///Users/alanhou/miniforge3/envs/deadLinkFinder/lib/python3.9/site-packages/urllib3/connectionpool.py?line=716'>717</a>\u001b[0m response_conn \u001b[39m=\u001b[39m conn \u001b[39mif\u001b[39;00m \u001b[39mnot\u001b[39;00m release_conn \u001b[39melse\u001b[39;00m \u001b[39mNone\u001b[39;00m\n",
      "File \u001b[0;32m~/miniforge3/envs/deadLinkFinder/lib/python3.9/site-packages/urllib3/connectionpool.py:386\u001b[0m, in \u001b[0;36mHTTPConnectionPool._make_request\u001b[0;34m(self, conn, method, url, timeout, chunked, **httplib_request_kw)\u001b[0m\n\u001b[1;32m    <a href='file:///Users/alanhou/miniforge3/envs/deadLinkFinder/lib/python3.9/site-packages/urllib3/connectionpool.py?line=383'>384</a>\u001b[0m \u001b[39m# Trigger any extra validation we need to do.\u001b[39;00m\n\u001b[1;32m    <a href='file:///Users/alanhou/miniforge3/envs/deadLinkFinder/lib/python3.9/site-packages/urllib3/connectionpool.py?line=384'>385</a>\u001b[0m \u001b[39mtry\u001b[39;00m:\n\u001b[0;32m--> <a href='file:///Users/alanhou/miniforge3/envs/deadLinkFinder/lib/python3.9/site-packages/urllib3/connectionpool.py?line=385'>386</a>\u001b[0m     \u001b[39mself\u001b[39;49m\u001b[39m.\u001b[39;49m_validate_conn(conn)\n\u001b[1;32m    <a href='file:///Users/alanhou/miniforge3/envs/deadLinkFinder/lib/python3.9/site-packages/urllib3/connectionpool.py?line=386'>387</a>\u001b[0m \u001b[39mexcept\u001b[39;00m (SocketTimeout, BaseSSLError) \u001b[39mas\u001b[39;00m e:\n\u001b[1;32m    <a href='file:///Users/alanhou/miniforge3/envs/deadLinkFinder/lib/python3.9/site-packages/urllib3/connectionpool.py?line=387'>388</a>\u001b[0m     \u001b[39m# Py2 raises this as a BaseSSLError, Py3 raises it as socket timeout.\u001b[39;00m\n\u001b[1;32m    <a href='file:///Users/alanhou/miniforge3/envs/deadLinkFinder/lib/python3.9/site-packages/urllib3/connectionpool.py?line=388'>389</a>\u001b[0m     \u001b[39mself\u001b[39m\u001b[39m.\u001b[39m_raise_timeout(err\u001b[39m=\u001b[39me, url\u001b[39m=\u001b[39murl, timeout_value\u001b[39m=\u001b[39mconn\u001b[39m.\u001b[39mtimeout)\n",
      "File \u001b[0;32m~/miniforge3/envs/deadLinkFinder/lib/python3.9/site-packages/urllib3/connectionpool.py:1040\u001b[0m, in \u001b[0;36mHTTPSConnectionPool._validate_conn\u001b[0;34m(self, conn)\u001b[0m\n\u001b[1;32m   <a href='file:///Users/alanhou/miniforge3/envs/deadLinkFinder/lib/python3.9/site-packages/urllib3/connectionpool.py?line=1037'>1038</a>\u001b[0m \u001b[39m# Force connect early to allow us to validate the connection.\u001b[39;00m\n\u001b[1;32m   <a href='file:///Users/alanhou/miniforge3/envs/deadLinkFinder/lib/python3.9/site-packages/urllib3/connectionpool.py?line=1038'>1039</a>\u001b[0m \u001b[39mif\u001b[39;00m \u001b[39mnot\u001b[39;00m \u001b[39mgetattr\u001b[39m(conn, \u001b[39m\"\u001b[39m\u001b[39msock\u001b[39m\u001b[39m\"\u001b[39m, \u001b[39mNone\u001b[39;00m):  \u001b[39m# AppEngine might not have  `.sock`\u001b[39;00m\n\u001b[0;32m-> <a href='file:///Users/alanhou/miniforge3/envs/deadLinkFinder/lib/python3.9/site-packages/urllib3/connectionpool.py?line=1039'>1040</a>\u001b[0m     conn\u001b[39m.\u001b[39;49mconnect()\n\u001b[1;32m   <a href='file:///Users/alanhou/miniforge3/envs/deadLinkFinder/lib/python3.9/site-packages/urllib3/connectionpool.py?line=1041'>1042</a>\u001b[0m \u001b[39mif\u001b[39;00m \u001b[39mnot\u001b[39;00m conn\u001b[39m.\u001b[39mis_verified:\n\u001b[1;32m   <a href='file:///Users/alanhou/miniforge3/envs/deadLinkFinder/lib/python3.9/site-packages/urllib3/connectionpool.py?line=1042'>1043</a>\u001b[0m     warnings\u001b[39m.\u001b[39mwarn(\n\u001b[1;32m   <a href='file:///Users/alanhou/miniforge3/envs/deadLinkFinder/lib/python3.9/site-packages/urllib3/connectionpool.py?line=1043'>1044</a>\u001b[0m         (\n\u001b[1;32m   <a href='file:///Users/alanhou/miniforge3/envs/deadLinkFinder/lib/python3.9/site-packages/urllib3/connectionpool.py?line=1044'>1045</a>\u001b[0m             \u001b[39m\"\u001b[39m\u001b[39mUnverified HTTPS request is being made to host \u001b[39m\u001b[39m'\u001b[39m\u001b[39m%s\u001b[39;00m\u001b[39m'\u001b[39m\u001b[39m. \u001b[39m\u001b[39m\"\u001b[39m\n\u001b[0;32m   (...)\u001b[0m\n\u001b[1;32m   <a href='file:///Users/alanhou/miniforge3/envs/deadLinkFinder/lib/python3.9/site-packages/urllib3/connectionpool.py?line=1049'>1050</a>\u001b[0m         InsecureRequestWarning,\n\u001b[1;32m   <a href='file:///Users/alanhou/miniforge3/envs/deadLinkFinder/lib/python3.9/site-packages/urllib3/connectionpool.py?line=1050'>1051</a>\u001b[0m     )\n",
      "File \u001b[0;32m~/miniforge3/envs/deadLinkFinder/lib/python3.9/site-packages/urllib3/connection.py:358\u001b[0m, in \u001b[0;36mHTTPSConnection.connect\u001b[0;34m(self)\u001b[0m\n\u001b[1;32m    <a href='file:///Users/alanhou/miniforge3/envs/deadLinkFinder/lib/python3.9/site-packages/urllib3/connection.py?line=355'>356</a>\u001b[0m \u001b[39mdef\u001b[39;00m \u001b[39mconnect\u001b[39m(\u001b[39mself\u001b[39m):\n\u001b[1;32m    <a href='file:///Users/alanhou/miniforge3/envs/deadLinkFinder/lib/python3.9/site-packages/urllib3/connection.py?line=356'>357</a>\u001b[0m     \u001b[39m# Add certificate verification\u001b[39;00m\n\u001b[0;32m--> <a href='file:///Users/alanhou/miniforge3/envs/deadLinkFinder/lib/python3.9/site-packages/urllib3/connection.py?line=357'>358</a>\u001b[0m     \u001b[39mself\u001b[39m\u001b[39m.\u001b[39msock \u001b[39m=\u001b[39m conn \u001b[39m=\u001b[39m \u001b[39mself\u001b[39;49m\u001b[39m.\u001b[39;49m_new_conn()\n\u001b[1;32m    <a href='file:///Users/alanhou/miniforge3/envs/deadLinkFinder/lib/python3.9/site-packages/urllib3/connection.py?line=358'>359</a>\u001b[0m     hostname \u001b[39m=\u001b[39m \u001b[39mself\u001b[39m\u001b[39m.\u001b[39mhost\n\u001b[1;32m    <a href='file:///Users/alanhou/miniforge3/envs/deadLinkFinder/lib/python3.9/site-packages/urllib3/connection.py?line=359'>360</a>\u001b[0m     tls_in_tls \u001b[39m=\u001b[39m \u001b[39mFalse\u001b[39;00m\n",
      "File \u001b[0;32m~/miniforge3/envs/deadLinkFinder/lib/python3.9/site-packages/urllib3/connection.py:174\u001b[0m, in \u001b[0;36mHTTPConnection._new_conn\u001b[0;34m(self)\u001b[0m\n\u001b[1;32m    <a href='file:///Users/alanhou/miniforge3/envs/deadLinkFinder/lib/python3.9/site-packages/urllib3/connection.py?line=170'>171</a>\u001b[0m     extra_kw[\u001b[39m\"\u001b[39m\u001b[39msocket_options\u001b[39m\u001b[39m\"\u001b[39m] \u001b[39m=\u001b[39m \u001b[39mself\u001b[39m\u001b[39m.\u001b[39msocket_options\n\u001b[1;32m    <a href='file:///Users/alanhou/miniforge3/envs/deadLinkFinder/lib/python3.9/site-packages/urllib3/connection.py?line=172'>173</a>\u001b[0m \u001b[39mtry\u001b[39;00m:\n\u001b[0;32m--> <a href='file:///Users/alanhou/miniforge3/envs/deadLinkFinder/lib/python3.9/site-packages/urllib3/connection.py?line=173'>174</a>\u001b[0m     conn \u001b[39m=\u001b[39m connection\u001b[39m.\u001b[39;49mcreate_connection(\n\u001b[1;32m    <a href='file:///Users/alanhou/miniforge3/envs/deadLinkFinder/lib/python3.9/site-packages/urllib3/connection.py?line=174'>175</a>\u001b[0m         (\u001b[39mself\u001b[39;49m\u001b[39m.\u001b[39;49m_dns_host, \u001b[39mself\u001b[39;49m\u001b[39m.\u001b[39;49mport), \u001b[39mself\u001b[39;49m\u001b[39m.\u001b[39;49mtimeout, \u001b[39m*\u001b[39;49m\u001b[39m*\u001b[39;49mextra_kw\n\u001b[1;32m    <a href='file:///Users/alanhou/miniforge3/envs/deadLinkFinder/lib/python3.9/site-packages/urllib3/connection.py?line=175'>176</a>\u001b[0m     )\n\u001b[1;32m    <a href='file:///Users/alanhou/miniforge3/envs/deadLinkFinder/lib/python3.9/site-packages/urllib3/connection.py?line=177'>178</a>\u001b[0m \u001b[39mexcept\u001b[39;00m SocketTimeout:\n\u001b[1;32m    <a href='file:///Users/alanhou/miniforge3/envs/deadLinkFinder/lib/python3.9/site-packages/urllib3/connection.py?line=178'>179</a>\u001b[0m     \u001b[39mraise\u001b[39;00m ConnectTimeoutError(\n\u001b[1;32m    <a href='file:///Users/alanhou/miniforge3/envs/deadLinkFinder/lib/python3.9/site-packages/urllib3/connection.py?line=179'>180</a>\u001b[0m         \u001b[39mself\u001b[39m,\n\u001b[1;32m    <a href='file:///Users/alanhou/miniforge3/envs/deadLinkFinder/lib/python3.9/site-packages/urllib3/connection.py?line=180'>181</a>\u001b[0m         \u001b[39m\"\u001b[39m\u001b[39mConnection to \u001b[39m\u001b[39m%s\u001b[39;00m\u001b[39m timed out. (connect timeout=\u001b[39m\u001b[39m%s\u001b[39;00m\u001b[39m)\u001b[39m\u001b[39m\"\u001b[39m\n\u001b[1;32m    <a href='file:///Users/alanhou/miniforge3/envs/deadLinkFinder/lib/python3.9/site-packages/urllib3/connection.py?line=181'>182</a>\u001b[0m         \u001b[39m%\u001b[39m (\u001b[39mself\u001b[39m\u001b[39m.\u001b[39mhost, \u001b[39mself\u001b[39m\u001b[39m.\u001b[39mtimeout),\n\u001b[1;32m    <a href='file:///Users/alanhou/miniforge3/envs/deadLinkFinder/lib/python3.9/site-packages/urllib3/connection.py?line=182'>183</a>\u001b[0m     )\n",
      "File \u001b[0;32m~/miniforge3/envs/deadLinkFinder/lib/python3.9/site-packages/urllib3/util/connection.py:85\u001b[0m, in \u001b[0;36mcreate_connection\u001b[0;34m(address, timeout, source_address, socket_options)\u001b[0m\n\u001b[1;32m     <a href='file:///Users/alanhou/miniforge3/envs/deadLinkFinder/lib/python3.9/site-packages/urllib3/util/connection.py?line=82'>83</a>\u001b[0m     \u001b[39mif\u001b[39;00m source_address:\n\u001b[1;32m     <a href='file:///Users/alanhou/miniforge3/envs/deadLinkFinder/lib/python3.9/site-packages/urllib3/util/connection.py?line=83'>84</a>\u001b[0m         sock\u001b[39m.\u001b[39mbind(source_address)\n\u001b[0;32m---> <a href='file:///Users/alanhou/miniforge3/envs/deadLinkFinder/lib/python3.9/site-packages/urllib3/util/connection.py?line=84'>85</a>\u001b[0m     sock\u001b[39m.\u001b[39;49mconnect(sa)\n\u001b[1;32m     <a href='file:///Users/alanhou/miniforge3/envs/deadLinkFinder/lib/python3.9/site-packages/urllib3/util/connection.py?line=85'>86</a>\u001b[0m     \u001b[39mreturn\u001b[39;00m sock\n\u001b[1;32m     <a href='file:///Users/alanhou/miniforge3/envs/deadLinkFinder/lib/python3.9/site-packages/urllib3/util/connection.py?line=87'>88</a>\u001b[0m \u001b[39mexcept\u001b[39;00m socket\u001b[39m.\u001b[39merror \u001b[39mas\u001b[39;00m e:\n",
      "\u001b[0;31mKeyboardInterrupt\u001b[0m: "
     ]
    }
   ],
   "source": [
    "for i in tqdm_notebook(range(len(urls))):\n",
    "    printError(urls[i])"
   ]
  },
  {
   "cell_type": "code",
   "execution_count": null,
   "metadata": {},
   "outputs": [],
   "source": []
  }
 ],
 "metadata": {
  "interpreter": {
   "hash": "21914f4b3a66d5eaaf12b768ad790e4bcb9f8129e72bcdde081a0b9e6752ba29"
  },
  "kernelspec": {
   "display_name": "Python 3.9.12 ('deadLinkFinder')",
   "language": "python",
   "name": "python3"
  },
  "language_info": {
   "codemirror_mode": {
    "name": "ipython",
    "version": 3
   },
   "file_extension": ".py",
   "mimetype": "text/x-python",
   "name": "python",
   "nbconvert_exporter": "python",
   "pygments_lexer": "ipython3",
   "version": "3.9.12"
  },
  "orig_nbformat": 4
 },
 "nbformat": 4,
 "nbformat_minor": 2
}
