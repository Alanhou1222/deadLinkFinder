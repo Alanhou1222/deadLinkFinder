{
 "cells": [
  {
   "cell_type": "code",
   "execution_count": 1,
   "metadata": {},
   "outputs": [],
   "source": [
    "import requests\n",
    "from bs4 import BeautifulSoup\n",
    "import pandas as pd\n",
    "from tqdm import tqdm_notebook"
   ]
  },
  {
   "cell_type": "code",
   "execution_count": 11,
   "metadata": {},
   "outputs": [],
   "source": [
    "headers = {\n",
    "    'User-Agent': 'Mozilla/5.0 (X11; Ubuntu; Linux x86_64; rv:61.0) Gecko/20100101 Firefox/61.0',\n",
    "    'Accept': '*/*',\n",
    "    'Accept-Encoding': 'gzip, deflate, br',\n",
    "    'Connection': 'keep-alive',\n",
    "}"
   ]
  },
  {
   "cell_type": "code",
   "execution_count": 12,
   "metadata": {},
   "outputs": [],
   "source": [
    "import logging\n",
    "\n",
    "import http.client\n",
    "\n",
    "http.client.HTTPConnection.debuglevel = 1\n",
    "# You must initialize logging, otherwise you'll not see debug output.\n",
    "logging.basicConfig()\n",
    "logging.getLogger().setLevel(logging.DEBUG)\n",
    "requests_log = logging.getLogger(\"requests.packages.urllib3\")\n",
    "requests_log.setLevel(logging.DEBUG)\n",
    "requests_log.propagate = True"
   ]
  },
  {
   "cell_type": "code",
   "execution_count": 13,
   "metadata": {},
   "outputs": [
    {
     "name": "stderr",
     "output_type": "stream",
     "text": [
      "DEBUG:urllib3.connectionpool:Starting new HTTPS connection (1): studentemployment.umich.edu:443\n"
     ]
    },
    {
     "name": "stdout",
     "output_type": "stream",
     "text": [
      "send: b'GET /Cmx_Content.aspx?cpId=27 HTTP/1.1\\r\\nHost: studentemployment.umich.edu\\r\\nUser-Agent: PostmanRuntime/7.29.0\\r\\nAccept-Encoding: gzip, deflate, br\\r\\nAccept: */*\\r\\nConnection: keep-alive\\r\\n\\r\\n'\n"
     ]
    },
    {
     "name": "stderr",
     "output_type": "stream",
     "text": [
      "DEBUG:urllib3.connectionpool:https://studentemployment.umich.edu:443 \"GET /Cmx_Content.aspx?cpId=27 HTTP/1.1\" 200 None\n",
      "WARNING:urllib3.connectionpool:Failed to parse headers (url=https://studentemployment.umich.edu:443/Cmx_Content.aspx?cpId=27): [MissingHeaderBodySeparatorDefect()], unparsed data: 'X-Frame-Options : SAMEORIGIN\\r\\nX-Xss-Protection: 1; mode=block\\r\\nX-Content-Type-Options: nosniff\\r\\nDate: Tue, 07 Jun 2022 18:18:42 GMT\\r\\nContent-Length: 10291\\r\\n\\r\\n'\n",
      "Traceback (most recent call last):\n",
      "  File \"/Users/alanhou/miniforge3/envs/deadLinkFinder/lib/python3.9/site-packages/urllib3/connectionpool.py\", line 469, in _make_request\n",
      "    assert_header_parsing(httplib_response.msg)\n",
      "  File \"/Users/alanhou/miniforge3/envs/deadLinkFinder/lib/python3.9/site-packages/urllib3/util/response.py\", line 91, in assert_header_parsing\n",
      "    raise HeaderParsingError(defects=defects, unparsed_data=unparsed_data)\n",
      "urllib3.exceptions.HeaderParsingError: [MissingHeaderBodySeparatorDefect()], unparsed data: 'X-Frame-Options : SAMEORIGIN\\r\\nX-Xss-Protection: 1; mode=block\\r\\nX-Content-Type-Options: nosniff\\r\\nDate: Tue, 07 Jun 2022 18:18:42 GMT\\r\\nContent-Length: 10291\\r\\n\\r\\n'\n"
     ]
    },
    {
     "name": "stdout",
     "output_type": "stream",
     "text": [
      "reply: 'HTTP/1.1 200 OK\\r\\n'\n",
      "header: Cache-Control: private\n",
      "header: Content-Type: text/html; charset=utf-8\n",
      "header: Content-Encoding: gzip\n",
      "header: Vary: Accept-Encoding\n",
      "header: Server: Microsoft-IIS/8.5\n",
      "header: X-AspNet-Version: 4.0.30319\n",
      "header: Set-Cookie: ASP.NET_SessionId=t50t5xrpy354znieey1bkpnp; path=/; HttpOnly; SameSite=Lax\n",
      "header: X-Powered-By: Magic\n",
      "header: Strict-Transport-Security: max-age=31536000\n",
      "header: Content-Security-Policy: default-src https: data: 'unsafe-inline' 'unsafe-eval'\n"
     ]
    },
    {
     "ename": "ConnectionError",
     "evalue": "HTTPSConnectionPool(host='studentemployment.umich.edu', port=443): Read timed out.",
     "output_type": "error",
     "traceback": [
      "\u001b[0;31m---------------------------------------------------------------------------\u001b[0m",
      "\u001b[0;31mtimeout\u001b[0m                                   Traceback (most recent call last)",
      "File \u001b[0;32m~/miniforge3/envs/deadLinkFinder/lib/python3.9/site-packages/urllib3/response.py:441\u001b[0m, in \u001b[0;36mHTTPResponse._error_catcher\u001b[0;34m(self)\u001b[0m\n\u001b[1;32m    <a href='file:///Users/alanhou/miniforge3/envs/deadLinkFinder/lib/python3.9/site-packages/urllib3/response.py?line=439'>440</a>\u001b[0m \u001b[39mtry\u001b[39;00m:\n\u001b[0;32m--> <a href='file:///Users/alanhou/miniforge3/envs/deadLinkFinder/lib/python3.9/site-packages/urllib3/response.py?line=440'>441</a>\u001b[0m     \u001b[39myield\u001b[39;00m\n\u001b[1;32m    <a href='file:///Users/alanhou/miniforge3/envs/deadLinkFinder/lib/python3.9/site-packages/urllib3/response.py?line=442'>443</a>\u001b[0m \u001b[39mexcept\u001b[39;00m SocketTimeout:\n\u001b[1;32m    <a href='file:///Users/alanhou/miniforge3/envs/deadLinkFinder/lib/python3.9/site-packages/urllib3/response.py?line=443'>444</a>\u001b[0m     \u001b[39m# FIXME: Ideally we'd like to include the url in the ReadTimeoutError but\u001b[39;00m\n\u001b[1;32m    <a href='file:///Users/alanhou/miniforge3/envs/deadLinkFinder/lib/python3.9/site-packages/urllib3/response.py?line=444'>445</a>\u001b[0m     \u001b[39m# there is yet no clean way to get at it from this context.\u001b[39;00m\n",
      "File \u001b[0;32m~/miniforge3/envs/deadLinkFinder/lib/python3.9/site-packages/urllib3/response.py:522\u001b[0m, in \u001b[0;36mHTTPResponse.read\u001b[0;34m(self, amt, decode_content, cache_content)\u001b[0m\n\u001b[1;32m    <a href='file:///Users/alanhou/miniforge3/envs/deadLinkFinder/lib/python3.9/site-packages/urllib3/response.py?line=520'>521</a>\u001b[0m cache_content \u001b[39m=\u001b[39m \u001b[39mFalse\u001b[39;00m\n\u001b[0;32m--> <a href='file:///Users/alanhou/miniforge3/envs/deadLinkFinder/lib/python3.9/site-packages/urllib3/response.py?line=521'>522</a>\u001b[0m data \u001b[39m=\u001b[39m \u001b[39mself\u001b[39;49m\u001b[39m.\u001b[39;49m_fp\u001b[39m.\u001b[39;49mread(amt) \u001b[39mif\u001b[39;00m \u001b[39mnot\u001b[39;00m fp_closed \u001b[39melse\u001b[39;00m \u001b[39mb\u001b[39m\u001b[39m\"\u001b[39m\u001b[39m\"\u001b[39m\n\u001b[1;32m    <a href='file:///Users/alanhou/miniforge3/envs/deadLinkFinder/lib/python3.9/site-packages/urllib3/response.py?line=522'>523</a>\u001b[0m \u001b[39mif\u001b[39;00m (\n\u001b[1;32m    <a href='file:///Users/alanhou/miniforge3/envs/deadLinkFinder/lib/python3.9/site-packages/urllib3/response.py?line=523'>524</a>\u001b[0m     amt \u001b[39m!=\u001b[39m \u001b[39m0\u001b[39m \u001b[39mand\u001b[39;00m \u001b[39mnot\u001b[39;00m data\n\u001b[1;32m    <a href='file:///Users/alanhou/miniforge3/envs/deadLinkFinder/lib/python3.9/site-packages/urllib3/response.py?line=524'>525</a>\u001b[0m ):  \u001b[39m# Platform-specific: Buggy versions of Python.\u001b[39;00m\n\u001b[0;32m   (...)\u001b[0m\n\u001b[1;32m    <a href='file:///Users/alanhou/miniforge3/envs/deadLinkFinder/lib/python3.9/site-packages/urllib3/response.py?line=530'>531</a>\u001b[0m     \u001b[39m# not properly close the connection in all cases. There is\u001b[39;00m\n\u001b[1;32m    <a href='file:///Users/alanhou/miniforge3/envs/deadLinkFinder/lib/python3.9/site-packages/urllib3/response.py?line=531'>532</a>\u001b[0m     \u001b[39m# no harm in redundantly calling close.\u001b[39;00m\n",
      "File \u001b[0;32m~/miniforge3/envs/deadLinkFinder/lib/python3.9/http/client.py:463\u001b[0m, in \u001b[0;36mHTTPResponse.read\u001b[0;34m(self, amt)\u001b[0m\n\u001b[1;32m    <a href='file:///Users/alanhou/miniforge3/envs/deadLinkFinder/lib/python3.9/http/client.py?line=461'>462</a>\u001b[0m b \u001b[39m=\u001b[39m \u001b[39mbytearray\u001b[39m(amt)\n\u001b[0;32m--> <a href='file:///Users/alanhou/miniforge3/envs/deadLinkFinder/lib/python3.9/http/client.py?line=462'>463</a>\u001b[0m n \u001b[39m=\u001b[39m \u001b[39mself\u001b[39;49m\u001b[39m.\u001b[39;49mreadinto(b)\n\u001b[1;32m    <a href='file:///Users/alanhou/miniforge3/envs/deadLinkFinder/lib/python3.9/http/client.py?line=463'>464</a>\u001b[0m \u001b[39mreturn\u001b[39;00m \u001b[39mmemoryview\u001b[39m(b)[:n]\u001b[39m.\u001b[39mtobytes()\n",
      "File \u001b[0;32m~/miniforge3/envs/deadLinkFinder/lib/python3.9/http/client.py:507\u001b[0m, in \u001b[0;36mHTTPResponse.readinto\u001b[0;34m(self, b)\u001b[0m\n\u001b[1;32m    <a href='file:///Users/alanhou/miniforge3/envs/deadLinkFinder/lib/python3.9/http/client.py?line=503'>504</a>\u001b[0m \u001b[39m# we do not use _safe_read() here because this may be a .will_close\u001b[39;00m\n\u001b[1;32m    <a href='file:///Users/alanhou/miniforge3/envs/deadLinkFinder/lib/python3.9/http/client.py?line=504'>505</a>\u001b[0m \u001b[39m# connection, and the user is reading more bytes than will be provided\u001b[39;00m\n\u001b[1;32m    <a href='file:///Users/alanhou/miniforge3/envs/deadLinkFinder/lib/python3.9/http/client.py?line=505'>506</a>\u001b[0m \u001b[39m# (for example, reading in 1k chunks)\u001b[39;00m\n\u001b[0;32m--> <a href='file:///Users/alanhou/miniforge3/envs/deadLinkFinder/lib/python3.9/http/client.py?line=506'>507</a>\u001b[0m n \u001b[39m=\u001b[39m \u001b[39mself\u001b[39;49m\u001b[39m.\u001b[39;49mfp\u001b[39m.\u001b[39;49mreadinto(b)\n\u001b[1;32m    <a href='file:///Users/alanhou/miniforge3/envs/deadLinkFinder/lib/python3.9/http/client.py?line=507'>508</a>\u001b[0m \u001b[39mif\u001b[39;00m \u001b[39mnot\u001b[39;00m n \u001b[39mand\u001b[39;00m b:\n\u001b[1;32m    <a href='file:///Users/alanhou/miniforge3/envs/deadLinkFinder/lib/python3.9/http/client.py?line=508'>509</a>\u001b[0m     \u001b[39m# Ideally, we would raise IncompleteRead if the content-length\u001b[39;00m\n\u001b[1;32m    <a href='file:///Users/alanhou/miniforge3/envs/deadLinkFinder/lib/python3.9/http/client.py?line=509'>510</a>\u001b[0m     \u001b[39m# wasn't satisfied, but it might break compatibility.\u001b[39;00m\n",
      "File \u001b[0;32m~/miniforge3/envs/deadLinkFinder/lib/python3.9/socket.py:704\u001b[0m, in \u001b[0;36mSocketIO.readinto\u001b[0;34m(self, b)\u001b[0m\n\u001b[1;32m    <a href='file:///Users/alanhou/miniforge3/envs/deadLinkFinder/lib/python3.9/socket.py?line=702'>703</a>\u001b[0m \u001b[39mtry\u001b[39;00m:\n\u001b[0;32m--> <a href='file:///Users/alanhou/miniforge3/envs/deadLinkFinder/lib/python3.9/socket.py?line=703'>704</a>\u001b[0m     \u001b[39mreturn\u001b[39;00m \u001b[39mself\u001b[39;49m\u001b[39m.\u001b[39;49m_sock\u001b[39m.\u001b[39;49mrecv_into(b)\n\u001b[1;32m    <a href='file:///Users/alanhou/miniforge3/envs/deadLinkFinder/lib/python3.9/socket.py?line=704'>705</a>\u001b[0m \u001b[39mexcept\u001b[39;00m timeout:\n",
      "File \u001b[0;32m~/miniforge3/envs/deadLinkFinder/lib/python3.9/ssl.py:1241\u001b[0m, in \u001b[0;36mSSLSocket.recv_into\u001b[0;34m(self, buffer, nbytes, flags)\u001b[0m\n\u001b[1;32m   <a href='file:///Users/alanhou/miniforge3/envs/deadLinkFinder/lib/python3.9/ssl.py?line=1237'>1238</a>\u001b[0m         \u001b[39mraise\u001b[39;00m \u001b[39mValueError\u001b[39;00m(\n\u001b[1;32m   <a href='file:///Users/alanhou/miniforge3/envs/deadLinkFinder/lib/python3.9/ssl.py?line=1238'>1239</a>\u001b[0m           \u001b[39m\"\u001b[39m\u001b[39mnon-zero flags not allowed in calls to recv_into() on \u001b[39m\u001b[39m%s\u001b[39;00m\u001b[39m\"\u001b[39m \u001b[39m%\u001b[39m\n\u001b[1;32m   <a href='file:///Users/alanhou/miniforge3/envs/deadLinkFinder/lib/python3.9/ssl.py?line=1239'>1240</a>\u001b[0m           \u001b[39mself\u001b[39m\u001b[39m.\u001b[39m\u001b[39m__class__\u001b[39m)\n\u001b[0;32m-> <a href='file:///Users/alanhou/miniforge3/envs/deadLinkFinder/lib/python3.9/ssl.py?line=1240'>1241</a>\u001b[0m     \u001b[39mreturn\u001b[39;00m \u001b[39mself\u001b[39;49m\u001b[39m.\u001b[39;49mread(nbytes, buffer)\n\u001b[1;32m   <a href='file:///Users/alanhou/miniforge3/envs/deadLinkFinder/lib/python3.9/ssl.py?line=1241'>1242</a>\u001b[0m \u001b[39melse\u001b[39;00m:\n",
      "File \u001b[0;32m~/miniforge3/envs/deadLinkFinder/lib/python3.9/ssl.py:1099\u001b[0m, in \u001b[0;36mSSLSocket.read\u001b[0;34m(self, len, buffer)\u001b[0m\n\u001b[1;32m   <a href='file:///Users/alanhou/miniforge3/envs/deadLinkFinder/lib/python3.9/ssl.py?line=1097'>1098</a>\u001b[0m \u001b[39mif\u001b[39;00m buffer \u001b[39mis\u001b[39;00m \u001b[39mnot\u001b[39;00m \u001b[39mNone\u001b[39;00m:\n\u001b[0;32m-> <a href='file:///Users/alanhou/miniforge3/envs/deadLinkFinder/lib/python3.9/ssl.py?line=1098'>1099</a>\u001b[0m     \u001b[39mreturn\u001b[39;00m \u001b[39mself\u001b[39;49m\u001b[39m.\u001b[39;49m_sslobj\u001b[39m.\u001b[39;49mread(\u001b[39mlen\u001b[39;49m, buffer)\n\u001b[1;32m   <a href='file:///Users/alanhou/miniforge3/envs/deadLinkFinder/lib/python3.9/ssl.py?line=1099'>1100</a>\u001b[0m \u001b[39melse\u001b[39;00m:\n",
      "\u001b[0;31mtimeout\u001b[0m: The read operation timed out",
      "\nDuring handling of the above exception, another exception occurred:\n",
      "\u001b[0;31mReadTimeoutError\u001b[0m                          Traceback (most recent call last)",
      "File \u001b[0;32m~/miniforge3/envs/deadLinkFinder/lib/python3.9/site-packages/requests/models.py:760\u001b[0m, in \u001b[0;36mResponse.iter_content.<locals>.generate\u001b[0;34m()\u001b[0m\n\u001b[1;32m    <a href='file:///Users/alanhou/miniforge3/envs/deadLinkFinder/lib/python3.9/site-packages/requests/models.py?line=758'>759</a>\u001b[0m \u001b[39mtry\u001b[39;00m:\n\u001b[0;32m--> <a href='file:///Users/alanhou/miniforge3/envs/deadLinkFinder/lib/python3.9/site-packages/requests/models.py?line=759'>760</a>\u001b[0m     \u001b[39mfor\u001b[39;00m chunk \u001b[39min\u001b[39;00m \u001b[39mself\u001b[39m\u001b[39m.\u001b[39mraw\u001b[39m.\u001b[39mstream(chunk_size, decode_content\u001b[39m=\u001b[39m\u001b[39mTrue\u001b[39;00m):\n\u001b[1;32m    <a href='file:///Users/alanhou/miniforge3/envs/deadLinkFinder/lib/python3.9/site-packages/requests/models.py?line=760'>761</a>\u001b[0m         \u001b[39myield\u001b[39;00m chunk\n",
      "File \u001b[0;32m~/miniforge3/envs/deadLinkFinder/lib/python3.9/site-packages/urllib3/response.py:579\u001b[0m, in \u001b[0;36mHTTPResponse.stream\u001b[0;34m(self, amt, decode_content)\u001b[0m\n\u001b[1;32m    <a href='file:///Users/alanhou/miniforge3/envs/deadLinkFinder/lib/python3.9/site-packages/urllib3/response.py?line=577'>578</a>\u001b[0m \u001b[39mwhile\u001b[39;00m \u001b[39mnot\u001b[39;00m is_fp_closed(\u001b[39mself\u001b[39m\u001b[39m.\u001b[39m_fp):\n\u001b[0;32m--> <a href='file:///Users/alanhou/miniforge3/envs/deadLinkFinder/lib/python3.9/site-packages/urllib3/response.py?line=578'>579</a>\u001b[0m     data \u001b[39m=\u001b[39m \u001b[39mself\u001b[39;49m\u001b[39m.\u001b[39;49mread(amt\u001b[39m=\u001b[39;49mamt, decode_content\u001b[39m=\u001b[39;49mdecode_content)\n\u001b[1;32m    <a href='file:///Users/alanhou/miniforge3/envs/deadLinkFinder/lib/python3.9/site-packages/urllib3/response.py?line=580'>581</a>\u001b[0m     \u001b[39mif\u001b[39;00m data:\n",
      "File \u001b[0;32m~/miniforge3/envs/deadLinkFinder/lib/python3.9/site-packages/urllib3/response.py:544\u001b[0m, in \u001b[0;36mHTTPResponse.read\u001b[0;34m(self, amt, decode_content, cache_content)\u001b[0m\n\u001b[1;32m    <a href='file:///Users/alanhou/miniforge3/envs/deadLinkFinder/lib/python3.9/site-packages/urllib3/response.py?line=534'>535</a>\u001b[0m             \u001b[39mif\u001b[39;00m \u001b[39mself\u001b[39m\u001b[39m.\u001b[39menforce_content_length \u001b[39mand\u001b[39;00m \u001b[39mself\u001b[39m\u001b[39m.\u001b[39mlength_remaining \u001b[39mnot\u001b[39;00m \u001b[39min\u001b[39;00m (\n\u001b[1;32m    <a href='file:///Users/alanhou/miniforge3/envs/deadLinkFinder/lib/python3.9/site-packages/urllib3/response.py?line=535'>536</a>\u001b[0m                 \u001b[39m0\u001b[39m,\n\u001b[1;32m    <a href='file:///Users/alanhou/miniforge3/envs/deadLinkFinder/lib/python3.9/site-packages/urllib3/response.py?line=536'>537</a>\u001b[0m                 \u001b[39mNone\u001b[39;00m,\n\u001b[0;32m   (...)\u001b[0m\n\u001b[1;32m    <a href='file:///Users/alanhou/miniforge3/envs/deadLinkFinder/lib/python3.9/site-packages/urllib3/response.py?line=541'>542</a>\u001b[0m                 \u001b[39m# raised during streaming, so all calls with incorrect\u001b[39;00m\n\u001b[1;32m    <a href='file:///Users/alanhou/miniforge3/envs/deadLinkFinder/lib/python3.9/site-packages/urllib3/response.py?line=542'>543</a>\u001b[0m                 \u001b[39m# Content-Length are caught.\u001b[39;00m\n\u001b[0;32m--> <a href='file:///Users/alanhou/miniforge3/envs/deadLinkFinder/lib/python3.9/site-packages/urllib3/response.py?line=543'>544</a>\u001b[0m                 \u001b[39mraise\u001b[39;00m IncompleteRead(\u001b[39mself\u001b[39m\u001b[39m.\u001b[39m_fp_bytes_read, \u001b[39mself\u001b[39m\u001b[39m.\u001b[39mlength_remaining)\n\u001b[1;32m    <a href='file:///Users/alanhou/miniforge3/envs/deadLinkFinder/lib/python3.9/site-packages/urllib3/response.py?line=545'>546</a>\u001b[0m \u001b[39mif\u001b[39;00m data:\n",
      "File \u001b[0;32m~/miniforge3/envs/deadLinkFinder/lib/python3.9/contextlib.py:137\u001b[0m, in \u001b[0;36m_GeneratorContextManager.__exit__\u001b[0;34m(self, typ, value, traceback)\u001b[0m\n\u001b[1;32m    <a href='file:///Users/alanhou/miniforge3/envs/deadLinkFinder/lib/python3.9/contextlib.py?line=135'>136</a>\u001b[0m \u001b[39mtry\u001b[39;00m:\n\u001b[0;32m--> <a href='file:///Users/alanhou/miniforge3/envs/deadLinkFinder/lib/python3.9/contextlib.py?line=136'>137</a>\u001b[0m     \u001b[39mself\u001b[39;49m\u001b[39m.\u001b[39;49mgen\u001b[39m.\u001b[39;49mthrow(typ, value, traceback)\n\u001b[1;32m    <a href='file:///Users/alanhou/miniforge3/envs/deadLinkFinder/lib/python3.9/contextlib.py?line=137'>138</a>\u001b[0m \u001b[39mexcept\u001b[39;00m \u001b[39mStopIteration\u001b[39;00m \u001b[39mas\u001b[39;00m exc:\n\u001b[1;32m    <a href='file:///Users/alanhou/miniforge3/envs/deadLinkFinder/lib/python3.9/contextlib.py?line=138'>139</a>\u001b[0m     \u001b[39m# Suppress StopIteration *unless* it's the same exception that\u001b[39;00m\n\u001b[1;32m    <a href='file:///Users/alanhou/miniforge3/envs/deadLinkFinder/lib/python3.9/contextlib.py?line=139'>140</a>\u001b[0m     \u001b[39m# was passed to throw().  This prevents a StopIteration\u001b[39;00m\n\u001b[1;32m    <a href='file:///Users/alanhou/miniforge3/envs/deadLinkFinder/lib/python3.9/contextlib.py?line=140'>141</a>\u001b[0m     \u001b[39m# raised inside the \"with\" statement from being suppressed.\u001b[39;00m\n",
      "File \u001b[0;32m~/miniforge3/envs/deadLinkFinder/lib/python3.9/site-packages/urllib3/response.py:446\u001b[0m, in \u001b[0;36mHTTPResponse._error_catcher\u001b[0;34m(self)\u001b[0m\n\u001b[1;32m    <a href='file:///Users/alanhou/miniforge3/envs/deadLinkFinder/lib/python3.9/site-packages/urllib3/response.py?line=442'>443</a>\u001b[0m \u001b[39mexcept\u001b[39;00m SocketTimeout:\n\u001b[1;32m    <a href='file:///Users/alanhou/miniforge3/envs/deadLinkFinder/lib/python3.9/site-packages/urllib3/response.py?line=443'>444</a>\u001b[0m     \u001b[39m# FIXME: Ideally we'd like to include the url in the ReadTimeoutError but\u001b[39;00m\n\u001b[1;32m    <a href='file:///Users/alanhou/miniforge3/envs/deadLinkFinder/lib/python3.9/site-packages/urllib3/response.py?line=444'>445</a>\u001b[0m     \u001b[39m# there is yet no clean way to get at it from this context.\u001b[39;00m\n\u001b[0;32m--> <a href='file:///Users/alanhou/miniforge3/envs/deadLinkFinder/lib/python3.9/site-packages/urllib3/response.py?line=445'>446</a>\u001b[0m     \u001b[39mraise\u001b[39;00m ReadTimeoutError(\u001b[39mself\u001b[39m\u001b[39m.\u001b[39m_pool, \u001b[39mNone\u001b[39;00m, \u001b[39m\"\u001b[39m\u001b[39mRead timed out.\u001b[39m\u001b[39m\"\u001b[39m)\n\u001b[1;32m    <a href='file:///Users/alanhou/miniforge3/envs/deadLinkFinder/lib/python3.9/site-packages/urllib3/response.py?line=447'>448</a>\u001b[0m \u001b[39mexcept\u001b[39;00m BaseSSLError \u001b[39mas\u001b[39;00m e:\n\u001b[1;32m    <a href='file:///Users/alanhou/miniforge3/envs/deadLinkFinder/lib/python3.9/site-packages/urllib3/response.py?line=448'>449</a>\u001b[0m     \u001b[39m# FIXME: Is there a better way to differentiate between SSLErrors?\u001b[39;00m\n",
      "\u001b[0;31mReadTimeoutError\u001b[0m: HTTPSConnectionPool(host='studentemployment.umich.edu', port=443): Read timed out.",
      "\nDuring handling of the above exception, another exception occurred:\n",
      "\u001b[0;31mConnectionError\u001b[0m                           Traceback (most recent call last)",
      "\u001b[1;32m/Users/alanhou/Documents/deadLinkFinder/testing.ipynb Cell 4'\u001b[0m in \u001b[0;36m<cell line: 2>\u001b[0;34m()\u001b[0m\n\u001b[1;32m      <a href='vscode-notebook-cell:/Users/alanhou/Documents/deadLinkFinder/testing.ipynb#ch0000005?line=0'>1</a>\u001b[0m testUrl \u001b[39m=\u001b[39m \u001b[39m\"\u001b[39m\u001b[39mhttps://studentemployment.umich.edu/Cmx_Content.aspx?cpId=27\u001b[39m\u001b[39m\"\u001b[39m\n\u001b[0;32m----> <a href='vscode-notebook-cell:/Users/alanhou/Documents/deadLinkFinder/testing.ipynb#ch0000005?line=1'>2</a>\u001b[0m response \u001b[39m=\u001b[39m requests\u001b[39m.\u001b[39;49mget(testUrl, headers\u001b[39m=\u001b[39;49mheaders, timeout\u001b[39m=\u001b[39;49m\u001b[39m30\u001b[39;49m)\n\u001b[1;32m      <a href='vscode-notebook-cell:/Users/alanhou/Documents/deadLinkFinder/testing.ipynb#ch0000005?line=2'>3</a>\u001b[0m response\u001b[39m.\u001b[39mraise_for_status()\n",
      "File \u001b[0;32m~/miniforge3/envs/deadLinkFinder/lib/python3.9/site-packages/requests/api.py:75\u001b[0m, in \u001b[0;36mget\u001b[0;34m(url, params, **kwargs)\u001b[0m\n\u001b[1;32m     <a href='file:///Users/alanhou/miniforge3/envs/deadLinkFinder/lib/python3.9/site-packages/requests/api.py?line=63'>64</a>\u001b[0m \u001b[39mdef\u001b[39;00m \u001b[39mget\u001b[39m(url, params\u001b[39m=\u001b[39m\u001b[39mNone\u001b[39;00m, \u001b[39m*\u001b[39m\u001b[39m*\u001b[39mkwargs):\n\u001b[1;32m     <a href='file:///Users/alanhou/miniforge3/envs/deadLinkFinder/lib/python3.9/site-packages/requests/api.py?line=64'>65</a>\u001b[0m     \u001b[39mr\u001b[39m\u001b[39m\"\"\"Sends a GET request.\u001b[39;00m\n\u001b[1;32m     <a href='file:///Users/alanhou/miniforge3/envs/deadLinkFinder/lib/python3.9/site-packages/requests/api.py?line=65'>66</a>\u001b[0m \n\u001b[1;32m     <a href='file:///Users/alanhou/miniforge3/envs/deadLinkFinder/lib/python3.9/site-packages/requests/api.py?line=66'>67</a>\u001b[0m \u001b[39m    :param url: URL for the new :class:`Request` object.\u001b[39;00m\n\u001b[0;32m   (...)\u001b[0m\n\u001b[1;32m     <a href='file:///Users/alanhou/miniforge3/envs/deadLinkFinder/lib/python3.9/site-packages/requests/api.py?line=71'>72</a>\u001b[0m \u001b[39m    :rtype: requests.Response\u001b[39;00m\n\u001b[1;32m     <a href='file:///Users/alanhou/miniforge3/envs/deadLinkFinder/lib/python3.9/site-packages/requests/api.py?line=72'>73</a>\u001b[0m \u001b[39m    \"\"\"\u001b[39;00m\n\u001b[0;32m---> <a href='file:///Users/alanhou/miniforge3/envs/deadLinkFinder/lib/python3.9/site-packages/requests/api.py?line=74'>75</a>\u001b[0m     \u001b[39mreturn\u001b[39;00m request(\u001b[39m'\u001b[39;49m\u001b[39mget\u001b[39;49m\u001b[39m'\u001b[39;49m, url, params\u001b[39m=\u001b[39;49mparams, \u001b[39m*\u001b[39;49m\u001b[39m*\u001b[39;49mkwargs)\n",
      "File \u001b[0;32m~/miniforge3/envs/deadLinkFinder/lib/python3.9/site-packages/requests/api.py:61\u001b[0m, in \u001b[0;36mrequest\u001b[0;34m(method, url, **kwargs)\u001b[0m\n\u001b[1;32m     <a href='file:///Users/alanhou/miniforge3/envs/deadLinkFinder/lib/python3.9/site-packages/requests/api.py?line=56'>57</a>\u001b[0m \u001b[39m# By using the 'with' statement we are sure the session is closed, thus we\u001b[39;00m\n\u001b[1;32m     <a href='file:///Users/alanhou/miniforge3/envs/deadLinkFinder/lib/python3.9/site-packages/requests/api.py?line=57'>58</a>\u001b[0m \u001b[39m# avoid leaving sockets open which can trigger a ResourceWarning in some\u001b[39;00m\n\u001b[1;32m     <a href='file:///Users/alanhou/miniforge3/envs/deadLinkFinder/lib/python3.9/site-packages/requests/api.py?line=58'>59</a>\u001b[0m \u001b[39m# cases, and look like a memory leak in others.\u001b[39;00m\n\u001b[1;32m     <a href='file:///Users/alanhou/miniforge3/envs/deadLinkFinder/lib/python3.9/site-packages/requests/api.py?line=59'>60</a>\u001b[0m \u001b[39mwith\u001b[39;00m sessions\u001b[39m.\u001b[39mSession() \u001b[39mas\u001b[39;00m session:\n\u001b[0;32m---> <a href='file:///Users/alanhou/miniforge3/envs/deadLinkFinder/lib/python3.9/site-packages/requests/api.py?line=60'>61</a>\u001b[0m     \u001b[39mreturn\u001b[39;00m session\u001b[39m.\u001b[39;49mrequest(method\u001b[39m=\u001b[39;49mmethod, url\u001b[39m=\u001b[39;49murl, \u001b[39m*\u001b[39;49m\u001b[39m*\u001b[39;49mkwargs)\n",
      "File \u001b[0;32m~/miniforge3/envs/deadLinkFinder/lib/python3.9/site-packages/requests/sessions.py:529\u001b[0m, in \u001b[0;36mSession.request\u001b[0;34m(self, method, url, params, data, headers, cookies, files, auth, timeout, allow_redirects, proxies, hooks, stream, verify, cert, json)\u001b[0m\n\u001b[1;32m    <a href='file:///Users/alanhou/miniforge3/envs/deadLinkFinder/lib/python3.9/site-packages/requests/sessions.py?line=523'>524</a>\u001b[0m send_kwargs \u001b[39m=\u001b[39m {\n\u001b[1;32m    <a href='file:///Users/alanhou/miniforge3/envs/deadLinkFinder/lib/python3.9/site-packages/requests/sessions.py?line=524'>525</a>\u001b[0m     \u001b[39m'\u001b[39m\u001b[39mtimeout\u001b[39m\u001b[39m'\u001b[39m: timeout,\n\u001b[1;32m    <a href='file:///Users/alanhou/miniforge3/envs/deadLinkFinder/lib/python3.9/site-packages/requests/sessions.py?line=525'>526</a>\u001b[0m     \u001b[39m'\u001b[39m\u001b[39mallow_redirects\u001b[39m\u001b[39m'\u001b[39m: allow_redirects,\n\u001b[1;32m    <a href='file:///Users/alanhou/miniforge3/envs/deadLinkFinder/lib/python3.9/site-packages/requests/sessions.py?line=526'>527</a>\u001b[0m }\n\u001b[1;32m    <a href='file:///Users/alanhou/miniforge3/envs/deadLinkFinder/lib/python3.9/site-packages/requests/sessions.py?line=527'>528</a>\u001b[0m send_kwargs\u001b[39m.\u001b[39mupdate(settings)\n\u001b[0;32m--> <a href='file:///Users/alanhou/miniforge3/envs/deadLinkFinder/lib/python3.9/site-packages/requests/sessions.py?line=528'>529</a>\u001b[0m resp \u001b[39m=\u001b[39m \u001b[39mself\u001b[39;49m\u001b[39m.\u001b[39;49msend(prep, \u001b[39m*\u001b[39;49m\u001b[39m*\u001b[39;49msend_kwargs)\n\u001b[1;32m    <a href='file:///Users/alanhou/miniforge3/envs/deadLinkFinder/lib/python3.9/site-packages/requests/sessions.py?line=530'>531</a>\u001b[0m \u001b[39mreturn\u001b[39;00m resp\n",
      "File \u001b[0;32m~/miniforge3/envs/deadLinkFinder/lib/python3.9/site-packages/requests/sessions.py:687\u001b[0m, in \u001b[0;36mSession.send\u001b[0;34m(self, request, **kwargs)\u001b[0m\n\u001b[1;32m    <a href='file:///Users/alanhou/miniforge3/envs/deadLinkFinder/lib/python3.9/site-packages/requests/sessions.py?line=683'>684</a>\u001b[0m         \u001b[39mpass\u001b[39;00m\n\u001b[1;32m    <a href='file:///Users/alanhou/miniforge3/envs/deadLinkFinder/lib/python3.9/site-packages/requests/sessions.py?line=685'>686</a>\u001b[0m \u001b[39mif\u001b[39;00m \u001b[39mnot\u001b[39;00m stream:\n\u001b[0;32m--> <a href='file:///Users/alanhou/miniforge3/envs/deadLinkFinder/lib/python3.9/site-packages/requests/sessions.py?line=686'>687</a>\u001b[0m     r\u001b[39m.\u001b[39;49mcontent\n\u001b[1;32m    <a href='file:///Users/alanhou/miniforge3/envs/deadLinkFinder/lib/python3.9/site-packages/requests/sessions.py?line=688'>689</a>\u001b[0m \u001b[39mreturn\u001b[39;00m r\n",
      "File \u001b[0;32m~/miniforge3/envs/deadLinkFinder/lib/python3.9/site-packages/requests/models.py:838\u001b[0m, in \u001b[0;36mResponse.content\u001b[0;34m(self)\u001b[0m\n\u001b[1;32m    <a href='file:///Users/alanhou/miniforge3/envs/deadLinkFinder/lib/python3.9/site-packages/requests/models.py?line=835'>836</a>\u001b[0m         \u001b[39mself\u001b[39m\u001b[39m.\u001b[39m_content \u001b[39m=\u001b[39m \u001b[39mNone\u001b[39;00m\n\u001b[1;32m    <a href='file:///Users/alanhou/miniforge3/envs/deadLinkFinder/lib/python3.9/site-packages/requests/models.py?line=836'>837</a>\u001b[0m     \u001b[39melse\u001b[39;00m:\n\u001b[0;32m--> <a href='file:///Users/alanhou/miniforge3/envs/deadLinkFinder/lib/python3.9/site-packages/requests/models.py?line=837'>838</a>\u001b[0m         \u001b[39mself\u001b[39m\u001b[39m.\u001b[39m_content \u001b[39m=\u001b[39m \u001b[39mb\u001b[39;49m\u001b[39m'\u001b[39;49m\u001b[39m'\u001b[39;49m\u001b[39m.\u001b[39;49mjoin(\u001b[39mself\u001b[39;49m\u001b[39m.\u001b[39;49miter_content(CONTENT_CHUNK_SIZE)) \u001b[39mor\u001b[39;00m \u001b[39mb\u001b[39m\u001b[39m'\u001b[39m\u001b[39m'\u001b[39m\n\u001b[1;32m    <a href='file:///Users/alanhou/miniforge3/envs/deadLinkFinder/lib/python3.9/site-packages/requests/models.py?line=839'>840</a>\u001b[0m \u001b[39mself\u001b[39m\u001b[39m.\u001b[39m_content_consumed \u001b[39m=\u001b[39m \u001b[39mTrue\u001b[39;00m\n\u001b[1;32m    <a href='file:///Users/alanhou/miniforge3/envs/deadLinkFinder/lib/python3.9/site-packages/requests/models.py?line=840'>841</a>\u001b[0m \u001b[39m# don't need to release the connection; that's been handled by urllib3\u001b[39;00m\n\u001b[1;32m    <a href='file:///Users/alanhou/miniforge3/envs/deadLinkFinder/lib/python3.9/site-packages/requests/models.py?line=841'>842</a>\u001b[0m \u001b[39m# since we exhausted the data.\u001b[39;00m\n",
      "File \u001b[0;32m~/miniforge3/envs/deadLinkFinder/lib/python3.9/site-packages/requests/models.py:767\u001b[0m, in \u001b[0;36mResponse.iter_content.<locals>.generate\u001b[0;34m()\u001b[0m\n\u001b[1;32m    <a href='file:///Users/alanhou/miniforge3/envs/deadLinkFinder/lib/python3.9/site-packages/requests/models.py?line=764'>765</a>\u001b[0m         \u001b[39mraise\u001b[39;00m ContentDecodingError(e)\n\u001b[1;32m    <a href='file:///Users/alanhou/miniforge3/envs/deadLinkFinder/lib/python3.9/site-packages/requests/models.py?line=765'>766</a>\u001b[0m     \u001b[39mexcept\u001b[39;00m ReadTimeoutError \u001b[39mas\u001b[39;00m e:\n\u001b[0;32m--> <a href='file:///Users/alanhou/miniforge3/envs/deadLinkFinder/lib/python3.9/site-packages/requests/models.py?line=766'>767</a>\u001b[0m         \u001b[39mraise\u001b[39;00m \u001b[39mConnectionError\u001b[39;00m(e)\n\u001b[1;32m    <a href='file:///Users/alanhou/miniforge3/envs/deadLinkFinder/lib/python3.9/site-packages/requests/models.py?line=767'>768</a>\u001b[0m \u001b[39melse\u001b[39;00m:\n\u001b[1;32m    <a href='file:///Users/alanhou/miniforge3/envs/deadLinkFinder/lib/python3.9/site-packages/requests/models.py?line=768'>769</a>\u001b[0m     \u001b[39m# Standard file-like object.\u001b[39;00m\n\u001b[1;32m    <a href='file:///Users/alanhou/miniforge3/envs/deadLinkFinder/lib/python3.9/site-packages/requests/models.py?line=769'>770</a>\u001b[0m     \u001b[39mwhile\u001b[39;00m \u001b[39mTrue\u001b[39;00m:\n",
      "\u001b[0;31mConnectionError\u001b[0m: HTTPSConnectionPool(host='studentemployment.umich.edu', port=443): Read timed out."
     ]
    }
   ],
   "source": [
    "testUrl = \"https://studentemployment.umich.edu/Cmx_Content.aspx?cpId=27\"\n",
    "response = requests.get(testUrl, headers=headers, timeout=30)\n",
    "response.raise_for_status()"
   ]
  },
  {
   "cell_type": "code",
   "execution_count": null,
   "metadata": {},
   "outputs": [],
   "source": [
    "print(response.status_code)"
   ]
  },
  {
   "cell_type": "code",
   "execution_count": null,
   "metadata": {},
   "outputs": [],
   "source": []
  }
 ],
 "metadata": {
  "interpreter": {
   "hash": "21914f4b3a66d5eaaf12b768ad790e4bcb9f8129e72bcdde081a0b9e6752ba29"
  },
  "kernelspec": {
   "display_name": "Python 3.9.12 ('deadLinkFinder')",
   "language": "python",
   "name": "python3"
  },
  "language_info": {
   "codemirror_mode": {
    "name": "ipython",
    "version": 3
   },
   "file_extension": ".py",
   "mimetype": "text/x-python",
   "name": "python",
   "nbconvert_exporter": "python",
   "pygments_lexer": "ipython3",
   "version": "3.9.12"
  },
  "orig_nbformat": 4
 },
 "nbformat": 4,
 "nbformat_minor": 2
}
