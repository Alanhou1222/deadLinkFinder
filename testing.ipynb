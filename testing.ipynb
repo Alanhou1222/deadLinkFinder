{
 "cells": [
  {
   "cell_type": "code",
   "execution_count": 26,
   "metadata": {},
   "outputs": [],
   "source": [
    "import requests\n",
    "from bs4 import BeautifulSoup\n",
    "import pandas as pd\n",
    "from tqdm import tqdm_notebook"
   ]
  },
  {
   "cell_type": "code",
   "execution_count": 28,
   "metadata": {},
   "outputs": [],
   "source": [
    "#print error messages of every dead link under a given page\n",
    "def printError(url):\n",
    "    errorFound = False\n",
    "    try:\n",
    "        req = requests.get(url, timeout = 10)\n",
    "        req.raise_for_status()\n",
    "    except Exception:\n",
    "        return\n",
    "    soup = BeautifulSoup(req.cont ent, 'html.parser')\n",
    "    content = soup.find_all(\"div\", {\"class\": \"region-content\"})[0]\n",
    "    for link in content.find_all('a'):\n",
    "        linkUrl = link.get('href')\n",
    "        text = link.get_text()\n",
    "        if linkUrl == None:\n",
    "            continue\n",
    "        if \"http\" not in linkUrl:\n",
    "            if \"mailto:\" or \"tel:\" in linkUrl:\n",
    "                continue\n",
    "            linkUrl = website + linkUrl\n",
    "        try:\n",
    "            r = requests.get(linkUrl, timeout = 10)\n",
    "            r.raise_for_status()\n",
    "        except Exception:\n",
    "            if not errorFound:\n",
    "                print(url)\n",
    "                errorFound = True\n",
    "            print('\\t'+text)\n",
    "            print('\\t'+linkUrl)\n",
    "            print()\n",
    "            # print('\\t'+str(e))\n",
    "    if errorFound:\n",
    "        print()"
   ]
  },
  {
   "cell_type": "code",
   "execution_count": 29,
   "metadata": {},
   "outputs": [],
   "source": [
    "website = \"https://studentlife.umich.edu/parents\"\n",
    "req = requests.get(website+\"/sitemap.xml\", headers, timeout = 5)\n",
    "soup = BeautifulSoup(req.content, 'html.parser')"
   ]
  },
  {
   "cell_type": "code",
   "execution_count": 30,
   "metadata": {},
   "outputs": [],
   "source": [
    "urls = []\n",
    "for link in soup.find_all('loc'):\n",
    "    urls.append(link.string)"
   ]
  },
  {
   "cell_type": "code",
   "execution_count": 31,
   "metadata": {},
   "outputs": [
    {
     "name": "stdout",
     "output_type": "stream",
     "text": [
      "<a class=\"colorbox\" data-cbox-img-attrs='{\"title\": \"\", \"alt\": \"\"}' data-colorbox-gallery=\"gallery-node-320-O5r0BuOp2eA\" href=\"https://studentlife.umich.edu/parents/files/parents/field/image/Challenge-Program-2015-Web-229.jpg\" title=\"Inclusive Campus: Student Life Resources\"><img alt=\"\" src=\"https://studentlife.umich.edu/parents/files/parents/styles/large/public/field/image/Challenge-Program-2015-Web-229.jpg?itok=7-7elqQn\" title=\"\" typeof=\"foaf:Image\"/></a>\n",
      "<a href=\"#igr\">A safe space to explore issues of identity, diversity, and social justice in a classroom, research, or workshop setting</a>\n",
      "<a href=\"#spectrum\" style=\"line-height: 1.6;\">Lesbian, Gay, Bisexual, Transgender, and/or Queer support, education, resources, and community</a>\n",
      "<a href=\"#mesa\">Empowerment, programming, support, and community built around multicultural, racial, ethnic, and social justice-related needs and issues</a>\n",
      "<a href=\"#trotter\">An inclusive, multiculturally-focused campus space for socializing, studying, and engaging in enriching and fun programming</a>\n",
      "<a href=\"#respect\">Educational opportunities that support a respectful and civil campus climate, or a place to report an incident of hate/bias</a>\n",
      "<a href=\"#disability\">A secure space to explore their identity around disability and to receive academic accommodations and access other resources.</a>\n",
      "<a id=\"igr\" name=\"igr\"></a>\n"
     ]
    },
    {
     "ename": "TypeError",
     "evalue": "argument of type 'NoneType' is not iterable",
     "output_type": "error",
     "traceback": [
      "\u001b[0;31m---------------------------------------------------------------------------\u001b[0m",
      "\u001b[0;31mTypeError\u001b[0m                                 Traceback (most recent call last)",
      "\u001b[1;32m/Users/alanhou/Documents/deadLinkFinder/testing.ipynb Cell 6'\u001b[0m in \u001b[0;36m<cell line: 1>\u001b[0;34m()\u001b[0m\n\u001b[0;32m----> <a href='vscode-notebook-cell:/Users/alanhou/Documents/deadLinkFinder/testing.ipynb#ch0000007?line=0'>1</a>\u001b[0m printError(urls[\u001b[39m11\u001b[39;49m])\n",
      "\u001b[1;32m/Users/alanhou/Documents/deadLinkFinder/testing.ipynb Cell 3'\u001b[0m in \u001b[0;36mprintError\u001b[0;34m(url)\u001b[0m\n\u001b[1;32m     <a href='vscode-notebook-cell:/Users/alanhou/Documents/deadLinkFinder/testing.ipynb#ch0000002?line=13'>14</a>\u001b[0m text \u001b[39m=\u001b[39m link\u001b[39m.\u001b[39mget_text()\n\u001b[1;32m     <a href='vscode-notebook-cell:/Users/alanhou/Documents/deadLinkFinder/testing.ipynb#ch0000002?line=14'>15</a>\u001b[0m \u001b[39m# if linkUrl == None:\u001b[39;00m\n\u001b[1;32m     <a href='vscode-notebook-cell:/Users/alanhou/Documents/deadLinkFinder/testing.ipynb#ch0000002?line=15'>16</a>\u001b[0m \u001b[39m#     continue\u001b[39;00m\n\u001b[0;32m---> <a href='vscode-notebook-cell:/Users/alanhou/Documents/deadLinkFinder/testing.ipynb#ch0000002?line=16'>17</a>\u001b[0m \u001b[39mif\u001b[39;00m \u001b[39m\"\u001b[39;49m\u001b[39mhttp\u001b[39;49m\u001b[39m\"\u001b[39;49m \u001b[39mnot\u001b[39;49;00m \u001b[39min\u001b[39;49;00m linkUrl:\n\u001b[1;32m     <a href='vscode-notebook-cell:/Users/alanhou/Documents/deadLinkFinder/testing.ipynb#ch0000002?line=17'>18</a>\u001b[0m     \u001b[39mif\u001b[39;00m \u001b[39m\"\u001b[39m\u001b[39mmailto:\u001b[39m\u001b[39m\"\u001b[39m \u001b[39mor\u001b[39;00m \u001b[39m\"\u001b[39m\u001b[39mtel:\u001b[39m\u001b[39m\"\u001b[39m \u001b[39min\u001b[39;00m linkUrl:\n\u001b[1;32m     <a href='vscode-notebook-cell:/Users/alanhou/Documents/deadLinkFinder/testing.ipynb#ch0000002?line=18'>19</a>\u001b[0m         \u001b[39mcontinue\u001b[39;00m\n",
      "\u001b[0;31mTypeError\u001b[0m: argument of type 'NoneType' is not iterable"
     ]
    }
   ],
   "source": [
    "    printError(urls[11])"
   ]
  },
  {
   "cell_type": "code",
   "execution_count": null,
   "metadata": {},
   "outputs": [],
   "source": [
    "for i in tqdm_notebook(range(len(urls))):\n",
    "    printError(urls[i])"
   ]
  },
  {
   "cell_type": "code",
   "execution_count": null,
   "metadata": {},
   "outputs": [],
   "source": []
  }
 ],
 "metadata": {
  "interpreter": {
   "hash": "21914f4b3a66d5eaaf12b768ad790e4bcb9f8129e72bcdde081a0b9e6752ba29"
  },
  "kernelspec": {
   "display_name": "Python 3.9.12 ('deadLinkFinder')",
   "language": "python",
   "name": "python3"
  },
  "language_info": {
   "codemirror_mode": {
    "name": "ipython",
    "version": 3
   },
   "file_extension": ".py",
   "mimetype": "text/x-python",
   "name": "python",
   "nbconvert_exporter": "python",
   "pygments_lexer": "ipython3",
   "version": "3.9.12"
  },
  "orig_nbformat": 4
 },
 "nbformat": 4,
 "nbformat_minor": 2
}
