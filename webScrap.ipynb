{
 "cells": [
  {
   "cell_type": "code",
   "execution_count": 7,
   "metadata": {},
   "outputs": [],
   "source": [
    "import requests\n",
    "from bs4 import BeautifulSoup\n",
    "import pandas as pd\n",
    "from tqdm import tqdm_notebook"
   ]
  },
  {
   "cell_type": "code",
   "execution_count": 8,
   "metadata": {},
   "outputs": [],
   "source": [
    "#set request headers\n",
    "headers = {\n",
    "    'Access-Control-Allow-Origin': '*',\n",
    "    'Access-Control-Allow-Methods': 'GET',\n",
    "    'Access-Control-Allow-Headers': 'Content-Type',\n",
    "    'Access-Control-Max-Age': '3600',\n",
    "    'User-Agent': 'Mozilla/5.0 (X11; Ubuntu; Linux x86_64; rv:52.0) Gecko/20100101 Firefox/52.0'\n",
    "}"
   ]
  },
  {
   "cell_type": "code",
   "execution_count": 9,
   "metadata": {},
   "outputs": [],
   "source": [
    "#print error messages of every dead link under a given page\n",
    "def printError(url):\n",
    "    errorFound = False\n",
    "    try:\n",
    "        req = requests.get(url, headers, timeout = 5)\n",
    "        req.raise_for_status()\n",
    "    except Exception:\n",
    "        return\n",
    "    soup = BeautifulSoup(req.content, 'html.parser')\n",
    "    content = soup.find_all(\"div\", {\"class\": \"region-content\"})[0]\n",
    "    for link in content.find_all('a'):\n",
    "        linkUrl = link.get('href')\n",
    "        text = link.get_text()\n",
    "        if linkUrl == None:\n",
    "            print('\\t'+text)\n",
    "            print('\\t'+linkUrl)\n",
    "            print()\n",
    "        if \"http\" not in linkUrl:\n",
    "            if \"mailto:\" or \"tel:\" in linkUrl:\n",
    "                continue\n",
    "            linkUrl = website + linkUrl\n",
    "        try:\n",
    "            r = requests.get(linkUrl, headers, timeout = 5)\n",
    "            r.raise_for_status()\n",
    "        except Exception as e:\n",
    "            if not errorFound:\n",
    "                print(url)\n",
    "                errorFound = True\n",
    "            print('\\t'+text)\n",
    "            print('\\t'+linkUrl)\n",
    "            print()\n",
    "            # print('\\t'+str(e))\n",
    "    if errorFound:\n",
    "        print()"
   ]
  },
  {
   "cell_type": "code",
   "execution_count": 10,
   "metadata": {},
   "outputs": [],
   "source": [
    "website = \"https://studentlife.umich.edu/parents\"\n",
    "req = requests.get(website+\"/sitemap.xml\", headers, timeout = 5)\n",
    "soup = BeautifulSoup(req.content, 'html.parser')"
   ]
  },
  {
   "cell_type": "code",
   "execution_count": 11,
   "metadata": {},
   "outputs": [],
   "source": [
    "urls = []\n",
    "for link in soup.find_all('loc'):\n",
    "    urls.append(link.string)"
   ]
  },
  {
   "cell_type": "code",
   "execution_count": 12,
   "metadata": {},
   "outputs": [
    {
     "name": "stderr",
     "output_type": "stream",
     "text": [
      "<ipython-input-12-418efed745b9>:1: TqdmDeprecationWarning: This function will be removed in tqdm==5.0.0\n",
      "Please use `tqdm.notebook.tqdm` instead of `tqdm.tqdm_notebook`\n",
      "  for i in tqdm_notebook(range(len(urls))):\n"
     ]
    },
    {
     "data": {
      "application/vnd.jupyter.widget-view+json": {
       "model_id": "4a44ab5bf2cc4f18a626d3f511983276",
       "version_major": 2,
       "version_minor": 0
      },
      "text/plain": [
       "  0%|          | 0/428 [00:00<?, ?it/s]"
      ]
     },
     "metadata": {},
     "output_type": "display_data"
    },
    {
     "name": "stdout",
     "output_type": "stream",
     "text": [
      "https://studentlife.umich.edu/parents/\n",
      "\tUniversity Record\n",
      "\thttp://www.ur.umich.edu/\n",
      "\n",
      "\tWednesday 2/16 4:30-5:30pm\n",
      "\thttps://umich.zoom.us/webinar/register/WN_gDFMeLfvTAmVxHDibFJ41w\n",
      "\n",
      "\tFriday 2/18 12:00-1:00pm\n",
      "\thttps://umich.zoom.us/webinar/register/WN_u1hczk97SNGiAArfl6PI7Q\n",
      "\n",
      "\tFriday 2/18 4:30-5:30pm\n",
      "\thttps://umich.zoom.us/webinar/register/WN_1q2LGnpaTqqho9oVXDRqdg\n",
      "\n",
      "\tMonday 2/21, 6:30-7:30pm\n",
      "\thttps://umich.zoom.us/webinar/register/WN_wceHNeqZSIGMObOIWTbWUQ\n",
      "\n",
      "\tTuesday 2/22, 5:30-6:30pm\n",
      "\thttps://umich.zoom.us/webinar/register/WN_7EcbjTO1SoWFL7SPS7EJLA\n",
      "\n",
      "\tWednesday 2/23 4:30-5:30pm\n",
      "\thttps://umich.zoom.us/webinar/register/WN_P3aNEkhQTyGnr8BXoItMSg\n",
      "\n",
      "\tmessage\n",
      "\thttps://president.umich.edu/news-communications/letters-to-the-community/a-message-from-president-mary-sue-coleman/\n",
      "\n",
      "\tPresident Coleman\n",
      "\thttps://president.umich.edu/about/biography/\n",
      "\n",
      "\tupdate\n",
      "\thttps://president.umich.edu/news-communications/letters-to-the-community/campus-covid-19-update-mask-policy-extended-briefing-video-available-2/\n",
      "\n",
      "\tupdate\n",
      "\thttps://president.umich.edu/news-communications/letters-to-the-community/campus-covid-19-update-testing-masking-and-vaccination-crucial-as-cases-increase/\n",
      "\n",
      "\tJan. 3\n",
      "\thttps://president.umich.edu/news-communications/letters-to-the-community/help-us-start-2022-safely-at-the-university-of-michigan/\n",
      "\n",
      "\n",
      "https://studentlife.umich.edu/parents/article/services-students-disabilities-fact-fund\n",
      "\tneeded technology\n",
      "\thttp://ssd.umich.edu/article/what-assistive-technology\n",
      "\n",
      "\thttp://ssd.umich.edu/article/giving\n",
      "\thttp://ssd.umich.edu/article/giving\n",
      "\n",
      "\tplease consider making a gift\n",
      "\thttps://www.giving.umich.edu/give/dsa-ssd?utm_medium=email&utm_campaign=familymatters\n",
      "\n",
      "\n",
      "https://studentlife.umich.edu/parents/article/campus-safety-community-effort\n",
      "\tbus transportation\n",
      "\thttp://pts.umich.edu/taking_the_bus/index.php\n",
      "\n",
      "\tEmergency Alert System\n",
      "\thttp://www.umemergencyalert.umich.edu/\n",
      "\n",
      "\n",
      "https://studentlife.umich.edu/parents/article/when-your-student-asks-about-housing-next-year%E2%80%A6\n",
      "\tGreek Life\n",
      "\thttp://greeklife.umich.edu/parents\n",
      "\n",
      "\tproperty listing\n",
      "\thttps://offcampushousing.umich.edu/property/rental\n",
      "\n",
      "\n",
      "https://studentlife.umich.edu/parents/article/key-conversations-have-your-student\n",
      "\tAlcohol Edu for Parents\n",
      "\thttp://everfi.com/alcoholeduforparents/\n",
      "\n",
      "\n",
      "https://studentlife.umich.edu/parents/article/our-time-your-student-8\n",
      "\tGiving Blueday\n",
      "\thttps://leadersandbest.umich.edu/mc/#/gbd/home?ref=greatday\n",
      "\n",
      "\tGiving Blueday website\n",
      "\thttps://leadersandbest.umich.edu/mc/#/gbd/home?ref=greatday\n",
      "\n",
      "\tStudent Life \n",
      "\thttp://studentaffairs.umich.edu/\n",
      "\n",
      "\n",
      "https://studentlife.umich.edu/parents/article/benefits-campus-job\n",
      "\tStudent Employment Office\n",
      "\thttps://www.studentemployment.umich.edu/\n",
      "\n",
      "\tlistings for student jobs\n",
      "\thttps://studentemployment.umich.edu/Cmx_Content.aspx?cpId=27\n",
      "\n",
      "\tInternational Center's website\n",
      "\thttp://internationalcenter.umich.edu/students/campus-employment\n",
      "\n",
      "\n"
     ]
    },
    {
     "ename": "TypeError",
     "evalue": "argument of type 'NoneType' is not iterable",
     "output_type": "error",
     "traceback": [
      "\u001b[0;31m---------------------------------------------------------------------------\u001b[0m",
      "\u001b[0;31mTypeError\u001b[0m                                 Traceback (most recent call last)",
      "\u001b[1;32m/Users/alanhou/Documents/deadLinkFinder/webScrap.ipynb Cell 6'\u001b[0m in \u001b[0;36m<cell line: 1>\u001b[0;34m()\u001b[0m\n\u001b[1;32m      <a href='vscode-notebook-cell:/Users/alanhou/Documents/deadLinkFinder/webScrap.ipynb#ch0000005?line=0'>1</a>\u001b[0m \u001b[39mfor\u001b[39;00m i \u001b[39min\u001b[39;00m tqdm_notebook(\u001b[39mrange\u001b[39m(\u001b[39mlen\u001b[39m(urls))):\n\u001b[0;32m----> <a href='vscode-notebook-cell:/Users/alanhou/Documents/deadLinkFinder/webScrap.ipynb#ch0000005?line=1'>2</a>\u001b[0m     printError(urls[i])\n",
      "\u001b[1;32m/Users/alanhou/Documents/deadLinkFinder/webScrap.ipynb Cell 3'\u001b[0m in \u001b[0;36mprintError\u001b[0;34m(url)\u001b[0m\n\u001b[1;32m     <a href='vscode-notebook-cell:/Users/alanhou/Documents/deadLinkFinder/webScrap.ipynb#ch0000002?line=11'>12</a>\u001b[0m linkUrl \u001b[39m=\u001b[39m link\u001b[39m.\u001b[39mget(\u001b[39m'\u001b[39m\u001b[39mhref\u001b[39m\u001b[39m'\u001b[39m)\n\u001b[1;32m     <a href='vscode-notebook-cell:/Users/alanhou/Documents/deadLinkFinder/webScrap.ipynb#ch0000002?line=12'>13</a>\u001b[0m text \u001b[39m=\u001b[39m link\u001b[39m.\u001b[39mget_text()\n\u001b[0;32m---> <a href='vscode-notebook-cell:/Users/alanhou/Documents/deadLinkFinder/webScrap.ipynb#ch0000002?line=13'>14</a>\u001b[0m \u001b[39mif\u001b[39;00m \u001b[39m\"\u001b[39;49m\u001b[39mhttp\u001b[39;49m\u001b[39m\"\u001b[39;49m \u001b[39mnot\u001b[39;49;00m \u001b[39min\u001b[39;49;00m linkUrl:\n\u001b[1;32m     <a href='vscode-notebook-cell:/Users/alanhou/Documents/deadLinkFinder/webScrap.ipynb#ch0000002?line=14'>15</a>\u001b[0m     \u001b[39mif\u001b[39;00m \u001b[39m\"\u001b[39m\u001b[39mmailto:\u001b[39m\u001b[39m\"\u001b[39m \u001b[39mor\u001b[39;00m \u001b[39m\"\u001b[39m\u001b[39mtel:\u001b[39m\u001b[39m\"\u001b[39m \u001b[39min\u001b[39;00m linkUrl:\n\u001b[1;32m     <a href='vscode-notebook-cell:/Users/alanhou/Documents/deadLinkFinder/webScrap.ipynb#ch0000002?line=15'>16</a>\u001b[0m         \u001b[39mcontinue\u001b[39;00m\n",
      "\u001b[0;31mTypeError\u001b[0m: argument of type 'NoneType' is not iterable"
     ]
    }
   ],
   "source": [
    "for i in tqdm_notebook(range(len(urls))):\n",
    "    printError(urls[i])"
   ]
  },
  {
   "cell_type": "code",
   "execution_count": null,
   "metadata": {},
   "outputs": [],
   "source": []
  }
 ],
 "metadata": {
  "interpreter": {
   "hash": "21914f4b3a66d5eaaf12b768ad790e4bcb9f8129e72bcdde081a0b9e6752ba29"
  },
  "kernelspec": {
   "display_name": "Python 3.9.12 ('deadLinkFinder')",
   "language": "python",
   "name": "python3"
  },
  "language_info": {
   "codemirror_mode": {
    "name": "ipython",
    "version": 3
   },
   "file_extension": ".py",
   "mimetype": "text/x-python",
   "name": "python",
   "nbconvert_exporter": "python",
   "pygments_lexer": "ipython3",
   "version": "3.9.12"
  },
  "orig_nbformat": 4
 },
 "nbformat": 4,
 "nbformat_minor": 2
}
