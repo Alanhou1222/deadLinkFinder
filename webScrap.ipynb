{
 "cells": [
  {
   "cell_type": "code",
   "execution_count": 29,
   "metadata": {},
   "outputs": [],
   "source": [
    "import requests\n",
    "from bs4 import BeautifulSoup\n",
    "import pandas as pd\n",
    "from tqdm import tqdm_notebook\n",
    "import warnings\n",
    "warnings.filterwarnings(action='ignore') #ignore all warnings include SSL warning for reqest.get"
   ]
  },
  {
   "cell_type": "code",
   "execution_count": 30,
   "metadata": {},
   "outputs": [],
   "source": [
    "headers = {\n",
    "    'Accept': '*/*',\n",
    "    'User-Agent': '',\n",
    "    'Accept-Encoding': 'gzip, deflate, br',\n",
    "    'Connection': 'keep-alive',\n",
    "}"
   ]
  },
  {
   "cell_type": "code",
   "execution_count": 31,
   "metadata": {},
   "outputs": [],
   "source": [
    "#print error messages of every dead link under a given page\n",
    "def printError(url):\n",
    "    errorFound = False\n",
    "    try:\n",
    "        req = requests.get(url, timeout = 30, headers={'User-Agent': ''})\n",
    "        req.raise_for_status()\n",
    "    except Exception:\n",
    "        return\n",
    "    soup = BeautifulSoup(req.content, 'html.parser')\n",
    "    content = soup.find_all(\"div\", {\"class\": \"region-content\"})[0]\n",
    "    for link in content.find_all('a'):\n",
    "        linkUrl = link.get('href')\n",
    "        text = link.get_text()\n",
    "        if linkUrl == None:\n",
    "            continue\n",
    "        if \"http\" not in linkUrl:\n",
    "            if \"mailto:\" or \"tel:\" in linkUrl:\n",
    "                continue\n",
    "            linkUrl = website + linkUrl\n",
    "        try:\n",
    "            r = requests.get(linkUrl, headers, verify=False, timeout = 30)\n",
    "            r.raise_for_status()\n",
    "        except Exception:\n",
    "            if not errorFound:\n",
    "                print(url)\n",
    "                errorFound = True\n",
    "            print('\\t'+text)\n",
    "            print('\\t'+linkUrl)\n",
    "            print()\n",
    "            # print('\\t'+str(e))\n",
    "    if errorFound:\n",
    "        print()"
   ]
  },
  {
   "cell_type": "code",
   "execution_count": 32,
   "metadata": {},
   "outputs": [],
   "source": [
    "website = \"https://studentlife.umich.edu/parents\"\n",
    "req = requests.get(website+\"/sitemap.xml\", timeout = 30, headers={'User-Agent': ''})\n",
    "soup = BeautifulSoup(req.content, 'html.parser')"
   ]
  },
  {
   "cell_type": "code",
   "execution_count": 33,
   "metadata": {},
   "outputs": [],
   "source": [
    "urls = []\n",
    "for link in soup.find_all('loc'):\n",
    "    urls.append(link.string)"
   ]
  },
  {
   "cell_type": "code",
   "execution_count": 34,
   "metadata": {},
   "outputs": [
    {
     "data": {
      "application/vnd.jupyter.widget-view+json": {
       "model_id": "deaa7af380774731985779c634085dee",
       "version_major": 2,
       "version_minor": 0
      },
      "text/plain": [
       "  0%|          | 0/428 [00:00<?, ?it/s]"
      ]
     },
     "metadata": {},
     "output_type": "display_data"
    },
    {
     "name": "stdout",
     "output_type": "stream",
     "text": [
      "https://studentlife.umich.edu/parents/\n",
      "\tUniversity Record\n",
      "\thttp://www.ur.umich.edu/\n",
      "\n",
      "\tWednesday 2/16 4:30-5:30pm\n",
      "\thttps://umich.zoom.us/webinar/register/WN_gDFMeLfvTAmVxHDibFJ41w\n",
      "\n",
      "\tFriday 2/18 12:00-1:00pm\n",
      "\thttps://umich.zoom.us/webinar/register/WN_u1hczk97SNGiAArfl6PI7Q\n",
      "\n",
      "\tFriday 2/18 4:30-5:30pm\n",
      "\thttps://umich.zoom.us/webinar/register/WN_1q2LGnpaTqqho9oVXDRqdg\n",
      "\n",
      "\tMonday 2/21, 6:30-7:30pm\n",
      "\thttps://umich.zoom.us/webinar/register/WN_wceHNeqZSIGMObOIWTbWUQ\n",
      "\n",
      "\tTuesday 2/22, 5:30-6:30pm\n",
      "\thttps://umich.zoom.us/webinar/register/WN_7EcbjTO1SoWFL7SPS7EJLA\n",
      "\n",
      "\tWednesday 2/23 4:30-5:30pm\n",
      "\thttps://umich.zoom.us/webinar/register/WN_P3aNEkhQTyGnr8BXoItMSg\n",
      "\n",
      "\tmessage\n",
      "\thttps://president.umich.edu/news-communications/letters-to-the-community/a-message-from-president-mary-sue-coleman/\n",
      "\n",
      "\tPresident Coleman\n",
      "\thttps://president.umich.edu/about/biography/\n",
      "\n",
      "\tupdate\n",
      "\thttps://president.umich.edu/news-communications/letters-to-the-community/campus-covid-19-update-mask-policy-extended-briefing-video-available-2/\n",
      "\n",
      "\tupdate\n",
      "\thttps://president.umich.edu/news-communications/letters-to-the-community/campus-covid-19-update-testing-masking-and-vaccination-crucial-as-cases-increase/\n",
      "\n",
      "\tJan. 3\n",
      "\thttps://president.umich.edu/news-communications/letters-to-the-community/help-us-start-2022-safely-at-the-university-of-michigan/\n",
      "\n",
      "\n",
      "https://studentlife.umich.edu/parents/article/services-students-disabilities-fact-fund\n",
      "\tneeded technology\n",
      "\thttp://ssd.umich.edu/article/what-assistive-technology\n",
      "\n",
      "\thttp://ssd.umich.edu/article/giving\n",
      "\thttp://ssd.umich.edu/article/giving\n",
      "\n",
      "\n",
      "https://studentlife.umich.edu/parents/article/campus-safety-community-effort\n",
      "\tbus transportation\n",
      "\thttp://pts.umich.edu/taking_the_bus/index.php\n",
      "\n",
      "\tEmergency Alert System\n",
      "\thttp://www.umemergencyalert.umich.edu/\n",
      "\n",
      "\n",
      "https://studentlife.umich.edu/parents/article/when-your-student-asks-about-housing-next-year%E2%80%A6\n",
      "\tGreek Life\n",
      "\thttp://greeklife.umich.edu/parents\n",
      "\n",
      "\tproperty listing\n",
      "\thttps://offcampushousing.umich.edu/property/rental\n",
      "\n",
      "\n",
      "https://studentlife.umich.edu/parents/article/key-conversations-have-your-student\n",
      "\tAlcohol Edu for Parents\n",
      "\thttp://everfi.com/alcoholeduforparents/\n",
      "\n",
      "\n",
      "https://studentlife.umich.edu/parents/article/our-time-your-student-8\n",
      "\tGiving Blueday\n",
      "\thttps://leadersandbest.umich.edu/mc/#/gbd/home?ref=greatday\n",
      "\n",
      "\tGiving Blueday website\n",
      "\thttps://leadersandbest.umich.edu/mc/#/gbd/home?ref=greatday\n",
      "\n",
      "\tStudent Life \n",
      "\thttp://studentaffairs.umich.edu/\n",
      "\n",
      "\n",
      "https://studentlife.umich.edu/parents/article/benefits-campus-job\n",
      "\tStudent Employment Office\n",
      "\thttps://www.studentemployment.umich.edu/\n",
      "\n",
      "\tlistings for student jobs\n",
      "\thttps://studentemployment.umich.edu/Cmx_Content.aspx?cpId=27\n",
      "\n",
      "\tInternational Center's website\n",
      "\thttp://internationalcenter.umich.edu/students/campus-employment\n",
      "\n",
      "\n",
      "https://studentlife.umich.edu/parents/article/inclusive-campus-student-life-resources\n",
      "\tclick here\n",
      "\thttps://studentlife.umich.edu/parents/article/inclusive-campus-trotter-center\n",
      "\n",
      "\n",
      "https://studentlife.umich.edu/parents/article/your-students-first-year\n",
      "\tMaking the Most of Michigan\n",
      "\thttps://firstyearexperience.umich.edu/uc-courses\n",
      "\n",
      "\n",
      "https://studentlife.umich.edu/parents/article/where-live-next-year-whats-rush\n",
      "\tGreek Life\n",
      "\thttp://greeklife.umich.edu/parents\n",
      "\n"
     ]
    }
   ],
   "source": [
    "for i in tqdm_notebook(range(len(urls))):\n",
    "    printError(urls[i])"
   ]
  },
  {
   "cell_type": "code",
   "execution_count": null,
   "metadata": {},
   "outputs": [],
   "source": []
  }
 ],
 "metadata": {
  "interpreter": {
   "hash": "21914f4b3a66d5eaaf12b768ad790e4bcb9f8129e72bcdde081a0b9e6752ba29"
  },
  "kernelspec": {
   "display_name": "Python 3.9.12 ('deadLinkFinder')",
   "language": "python",
   "name": "python3"
  },
  "language_info": {
   "codemirror_mode": {
    "name": "ipython",
    "version": 3
   },
   "file_extension": ".py",
   "mimetype": "text/x-python",
   "name": "python",
   "nbconvert_exporter": "python",
   "pygments_lexer": "ipython3",
   "version": "3.9.12"
  },
  "orig_nbformat": 4
 },
 "nbformat": 4,
 "nbformat_minor": 2
}
