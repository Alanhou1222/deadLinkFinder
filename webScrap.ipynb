{
 "cells": [
  {
   "cell_type": "code",
   "execution_count": 1,
   "metadata": {},
   "outputs": [],
   "source": [
    "import signal\n",
    "import requests\n",
    "from bs4 import BeautifulSoup\n",
    "import pandas as pd\n",
    "from tqdm import tqdm_notebook\n",
    "import warnings\n",
    "warnings.filterwarnings(action='ignore') #ignore all warnings include SSL warning for reqest.get\n",
    "import time"
   ]
  },
  {
   "cell_type": "code",
   "execution_count": 2,
   "metadata": {},
   "outputs": [
    {
     "data": {
      "text/plain": [
       "<Handlers.SIG_DFL: 0>"
      ]
     },
     "execution_count": 2,
     "metadata": {},
     "output_type": "execute_result"
    }
   ],
   "source": [
    "#timeout\n",
    "class WeirdLink(Exception):\n",
    "    pass\n",
    "def handler(signum, frame):\n",
    "    print(\"timeOut!\")\n",
    "    raise WeirdLink\n",
    "signal.signal(signal.SIGALRM, handler)"
   ]
  },
  {
   "cell_type": "code",
   "execution_count": 3,
   "metadata": {},
   "outputs": [],
   "source": [
    "headers = {\n",
    "    'Accept': '*/*',\n",
    "    'User-Agent': 'Mozilla/5.0 (X11; Ubuntu; Linux x86_64; rv:61.0) Gecko/20100101 Firefox/61.0',\n",
    "    'Accept-Encoding': 'gzip, deflate, br',\n",
    "    'Connection': 'keep-alive',\n",
    "}"
   ]
  },
  {
   "cell_type": "code",
   "execution_count": 4,
   "metadata": {},
   "outputs": [],
   "source": [
    "def writeLink(LinksOut, text, linkUrl, url, errorFound):\n",
    "    if not errorFound:\n",
    "        LinksOut.write(url+'\\n')\n",
    "    LinksOut.write('\\t'+text+'\\n')\n",
    "    LinksOut.write('\\t'+linkUrl+'\\n')\n",
    "    LinksOut.write('\\n')"
   ]
  },
  {
   "cell_type": "code",
   "execution_count": 5,
   "metadata": {},
   "outputs": [],
   "source": [
    "#print error messages of every dead link under a given page\n",
    "def printError(url,websiteName):\n",
    "    deadLinksOut = open(websiteName+\"DeadLinks.txt\", \"a\")\n",
    "    weirdLinksOut = open(websiteName+\"WeirdLinks.txt\", \"a\")\n",
    "    errorFound = False\n",
    "    try:\n",
    "        req = requests.get(url, headers=headers, timeout = 30)\n",
    "        req.raise_for_status()\n",
    "    except Exception:\n",
    "        return\n",
    "    soup = BeautifulSoup(req.content, 'html.parser')\n",
    "    content = soup.find_all(\"div\", {\"class\": \"region-content\"})[0]\n",
    "    for link in content.find_all('a'):\n",
    "        linkUrl = link.get('href')\n",
    "        text = link.get_text()\n",
    "        if linkUrl == None:\n",
    "            continue\n",
    "        if \"http\" not in linkUrl:\n",
    "            if \"mailto:\" or \"tel:\" in linkUrl:\n",
    "                continue\n",
    "            linkUrl = website + linkUrl\n",
    "        try:\n",
    "            signal.alarm(29)\n",
    "            r = requests.get(linkUrl, headers=headers, verify=False, timeout = 30)\n",
    "            signal.alarm(0)\n",
    "        except WeirdLink:\n",
    "            writeLink(deadLinksOut, text, linkUrl, url, errorFound)\n",
    "            writeLink(weirdLinksOut, text, linkUrl, url, errorFound)\n",
    "            errorFound = True\n",
    "        except:\n",
    "            writeLink(deadLinksOut, text, linkUrl, url, errorFound)\n",
    "            errorFound = True\n",
    "        try:\n",
    "            r.raise_for_status()\n",
    "        except Exception:\n",
    "            writeLink(deadLinksOut, text, linkUrl, url, errorFound)\n",
    "            errorFound = True\n",
    "            # print('\\t'+str(e))\n",
    "    if errorFound:\n",
    "       deadLinksOut.write('\\n')\n",
    "    deadLinksOut.close()\n",
    "    weirdLinksOut.close()"
   ]
  },
  {
   "cell_type": "code",
   "execution_count": 6,
   "metadata": {},
   "outputs": [],
   "source": [
    "website = \"https://studentlife.umich.edu/parents\"\n",
    "req = requests.get(website+\"/sitemap.xml\", headers=headers, timeout = 30)\n",
    "soup = BeautifulSoup(req.content, 'html.parser')\n",
    "websiteName = website[website.find(\"//\")+2:].replace(\"/\",\"_\")"
   ]
  },
  {
   "cell_type": "code",
   "execution_count": 7,
   "metadata": {},
   "outputs": [],
   "source": [
    "urls = []\n",
    "for link in soup.find_all('loc'):\n",
    "    urls.append(link.string)"
   ]
  },
  {
   "cell_type": "code",
   "execution_count": 8,
   "metadata": {},
   "outputs": [
    {
     "data": {
      "application/vnd.jupyter.widget-view+json": {
       "model_id": "84824aad80f8450997aa483bc11336a3",
       "version_major": 2,
       "version_minor": 0
      },
      "text/plain": [
       "  0%|          | 0/428 [00:00<?, ?it/s]"
      ]
     },
     "metadata": {},
     "output_type": "display_data"
    }
   ],
   "source": [
    "for i in tqdm_notebook(range(len(urls))):\n",
    "    printError(urls[i],websiteName)"
   ]
  }
 ],
 "metadata": {
  "interpreter": {
   "hash": "21914f4b3a66d5eaaf12b768ad790e4bcb9f8129e72bcdde081a0b9e6752ba29"
  },
  "kernelspec": {
   "display_name": "Python 3.9.12 ('deadLinkFinder')",
   "language": "python",
   "name": "python3"
  },
  "language_info": {
   "codemirror_mode": {
    "name": "ipython",
    "version": 3
   },
   "file_extension": ".py",
   "mimetype": "text/x-python",
   "name": "python",
   "nbconvert_exporter": "python",
   "pygments_lexer": "ipython3",
   "version": "3.9.12"
  },
  "orig_nbformat": 4
 },
 "nbformat": 4,
 "nbformat_minor": 2
}
